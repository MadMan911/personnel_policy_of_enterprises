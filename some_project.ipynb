{
 "cells": [
  {
   "cell_type": "markdown",
   "id": "ec042172",
   "metadata": {
    "toc": true
   },
   "source": [
    "<h1>Содержание<span class=\"tocSkip\"></span></h1>\n",
    "<div class=\"toc\"><ul class=\"toc-item\"><li><span><a href=\"#Знакомство-с-данными\" data-toc-modified-id=\"Знакомство-с-данными-1\"><span class=\"toc-item-num\">1&nbsp;&nbsp;</span>Знакомство с данными</a></span></li><li><span><a href=\"#Обработка-данных\" data-toc-modified-id=\"Обработка-данных-2\"><span class=\"toc-item-num\">2&nbsp;&nbsp;</span>Обработка данных</a></span></li><li><span><a href=\"#Поиск-ответов-на-вопросы.\" data-toc-modified-id=\"Поиск-ответов-на-вопросы.-3\"><span class=\"toc-item-num\">3&nbsp;&nbsp;</span>Поиск ответов на вопросы.</a></span><ul class=\"toc-item\"><li><span><a href=\"#на-какие-должности-больше-берут-мигрантов?\" data-toc-modified-id=\"на-какие-должности-больше-берут-мигрантов?-3.1\"><span class=\"toc-item-num\">3.1&nbsp;&nbsp;</span>на какие должности больше берут мигрантов?</a></span></li><li><span><a href=\"#почему-какие-то-предприятия-нанимают-больше-мигрантов,-а-какие-то-меньше.-причины-привлечения-иностранных-работников?\" data-toc-modified-id=\"почему-какие-то-предприятия-нанимают-больше-мигрантов,-а-какие-то-меньше.-причины-привлечения-иностранных-работников?-3.2\"><span class=\"toc-item-num\">3.2&nbsp;&nbsp;</span>почему какие-то предприятия нанимают больше мигрантов, а какие-то меньше. причины привлечения иностранных работников?</a></span></li><li><span><a href=\"#связаны-ли-как-то-места,-куда-берут-лиц-пенсионного-и-предпенсионного-возрастов-и-мигрантов?-и-почему?\" data-toc-modified-id=\"связаны-ли-как-то-места,-куда-берут-лиц-пенсионного-и-предпенсионного-возрастов-и-мигрантов?-и-почему?-3.3\"><span class=\"toc-item-num\">3.3&nbsp;&nbsp;</span>связаны ли как-то места, куда берут лиц пенсионного и предпенсионного возрастов и мигрантов? и почему?</a></span></li><li><span><a href=\"#сколько-работников-выбыло-с-предприятия-и-какова-доля-мигрантов-среди-них?\" data-toc-modified-id=\"сколько-работников-выбыло-с-предприятия-и-какова-доля-мигрантов-среди-них?-3.4\"><span class=\"toc-item-num\">3.4&nbsp;&nbsp;</span>сколько работников выбыло с предприятия и какова доля мигрантов среди них?</a></span></li><li><span><a href=\"#интенсивность-и-оплата-труда.-дешевле-ли-нанимать-мигрантов?-насколько-выгодно-нанимать-мигрантов?\" data-toc-modified-id=\"интенсивность-и-оплата-труда.-дешевле-ли-нанимать-мигрантов?-насколько-выгодно-нанимать-мигрантов?-3.5\"><span class=\"toc-item-num\">3.5&nbsp;&nbsp;</span>интенсивность и оплата труда. дешевле ли нанимать мигрантов? насколько выгодно нанимать мигрантов?</a></span></li><li><span><a href=\"#доля-организаций-использующих-иностранную-рабочую-силу\" data-toc-modified-id=\"доля-организаций-использующих-иностранную-рабочую-силу-3.6\"><span class=\"toc-item-num\">3.6&nbsp;&nbsp;</span>доля организаций использующих иностранную рабочую силу</a></span></li><li><span><a href=\"#связано-ли-привлечение-иностранных-работников-с-дефицитом-кадров\" data-toc-modified-id=\"связано-ли-привлечение-иностранных-работников-с-дефицитом-кадров-3.7\"><span class=\"toc-item-num\">3.7&nbsp;&nbsp;</span>связано ли привлечение иностранных работников с дефицитом кадров</a></span></li><li><span><a href=\"#на-предприятиях-с-вредными-или-опасными-условиями-труда-больше-мигрантов\" data-toc-modified-id=\"на-предприятиях-с-вредными-или-опасными-условиями-труда-больше-мигрантов-3.8\"><span class=\"toc-item-num\">3.8&nbsp;&nbsp;</span>на предприятиях с вредными или опасными условиями труда больше мигрантов</a></span></li><li><span><a href=\"#хотелось-бы-посмотреть-гендерные-и-возрастные-аспекты-трудовой-миграции\" data-toc-modified-id=\"хотелось-бы-посмотреть-гендерные-и-возрастные-аспекты-трудовой-миграции-3.9\"><span class=\"toc-item-num\">3.9&nbsp;&nbsp;</span>хотелось бы посмотреть гендерные и возрастные аспекты трудовой миграции</a></span></li><li><span><a href=\"#Зависит-ли-количество-мигрантов-от-типа-населенного-пункта\" data-toc-modified-id=\"Зависит-ли-количество-мигрантов-от-типа-населенного-пункта-3.10\"><span class=\"toc-item-num\">3.10&nbsp;&nbsp;</span>Зависит ли количество мигрантов от типа населенного пункта</a></span></li></ul></li><li><span><a href=\"#Проверка-гипотез\" data-toc-modified-id=\"Проверка-гипотез-4\"><span class=\"toc-item-num\">4&nbsp;&nbsp;</span>Проверка гипотез</a></span><ul class=\"toc-item\"><li><span><a href=\"#Мигранты-чаще-работают-на-низкооплачиваемых-должностях,-требующих-физическую-нагрузку.\" data-toc-modified-id=\"Мигранты-чаще-работают-на-низкооплачиваемых-должностях,-требующих-физическую-нагрузку.-4.1\"><span class=\"toc-item-num\">4.1&nbsp;&nbsp;</span>Мигранты чаще работают на низкооплачиваемых должностях, требующих физическую нагрузку.</a></span></li><li><span><a href=\"#При-сокращении-штата-мигрантов-увольняют-первыми.\" data-toc-modified-id=\"При-сокращении-штата-мигрантов-увольняют-первыми.-4.2\"><span class=\"toc-item-num\">4.2&nbsp;&nbsp;</span>При сокращении штата мигрантов увольняют первыми.</a></span></li><li><span><a href=\"#На-предприятиях-с-вредными-или-опасными-условиями-труда-больше-мигрантов.\" data-toc-modified-id=\"На-предприятиях-с-вредными-или-опасными-условиями-труда-больше-мигрантов.-4.3\"><span class=\"toc-item-num\">4.3&nbsp;&nbsp;</span>На предприятиях с вредными или опасными условиями труда больше мигрантов.</a></span></li><li><span><a href=\"#Мужчин-мигрантов-берут-чаще-на-работу-(потому-что-физический-труд)\" data-toc-modified-id=\"Мужчин-мигрантов-берут-чаще-на-работу-(потому-что-физический-труд)-4.4\"><span class=\"toc-item-num\">4.4&nbsp;&nbsp;</span>Мужчин мигрантов берут чаще на работу (потому что физический труд)</a></span></li><li><span><a href=\"#В-предприятиях-где-есть-полная-или-частичная-дистанционная-занятость-больше-мигрантов\" data-toc-modified-id=\"В-предприятиях-где-есть-полная-или-частичная-дистанционная-занятость-больше-мигрантов-4.5\"><span class=\"toc-item-num\">4.5&nbsp;&nbsp;</span>В предприятиях где есть полная или частичная дистанционная занятость больше мигрантов</a></span></li></ul></li><li><span><a href=\"#Подведение-итогов:\" data-toc-modified-id=\"Подведение-итогов:-5\"><span class=\"toc-item-num\">5&nbsp;&nbsp;</span>Подведение итогов:</a></span></li></ul></div>"
   ]
  },
  {
   "cell_type": "markdown",
   "id": "97a951d9",
   "metadata": {},
   "source": [
    "**Документация к датасету.**"
   ]
  },
  {
   "cell_type": "markdown",
   "id": "151566f7",
   "metadata": {},
   "source": [
    "2 - вид деятельности `industry`\n",
    "\n",
    "23 - доля мигрантов `sharemigrant`\n",
    "\n",
    "24 - доля предпенсионного возраста `shareold`\n",
    "\n",
    "25 - доля пенсионного возраста `sharevold`\n",
    "\n",
    "26 - вредные и опасные условия труда `unhealthw`\n",
    "\n",
    "30 - доля работавших дистанционно `distantworker`\n",
    "\n",
    "33 - сколько выбыло `alllayof`, сокращение штата `staffreduct`\n",
    "\n",
    "46 - доля работников по возрастным `категориям`\n",
    "\n",
    "47 - доля женщин `allwomen`\n",
    "\n",
    "58-59 - среднемесячная зп `wage`\n",
    "\n",
    "89 - тип населенного пункта `locality`\n"
   ]
  },
  {
   "cell_type": "markdown",
   "id": "487e9907",
   "metadata": {},
   "source": [
    "**Цель исследования:**\n",
    "\n",
    "Поиск ответов на вопросы для использования выводов в научно-исследовательской работе, нахождение закономерностей и проверка гипотез.\n",
    "\n",
    "Исследование будет состоять из 6 пунктов:\n",
    "- знакомство с данными\n",
    "- предобработка данных\n",
    "- поиск ответов на вопросы\n",
    "- проверка гипотез \n",
    "- поиск закономерностей\n",
    "- подведение итогов"
   ]
  },
  {
   "cell_type": "markdown",
   "id": "04117ed4",
   "metadata": {},
   "source": [
    "**Импорт необходимых библиотек**"
   ]
  },
  {
   "cell_type": "code",
   "execution_count": 1,
   "id": "a6976746",
   "metadata": {},
   "outputs": [],
   "source": [
    "import pandas as pd\n",
    "import numpy as np\n",
    "import matplotlib.pyplot as plt\n",
    "import seaborn as sns"
   ]
  },
  {
   "cell_type": "markdown",
   "id": "cdf7c909",
   "metadata": {},
   "source": [
    "## Знакомство с данными"
   ]
  },
  {
   "cell_type": "code",
   "execution_count": 2,
   "id": "c5de34b0",
   "metadata": {
    "scrolled": true
   },
   "outputs": [
    {
     "data": {
      "text/html": [
       "<div>\n",
       "<style scoped>\n",
       "    .dataframe tbody tr th:only-of-type {\n",
       "        vertical-align: middle;\n",
       "    }\n",
       "\n",
       "    .dataframe tbody tr th {\n",
       "        vertical-align: top;\n",
       "    }\n",
       "\n",
       "    .dataframe thead th {\n",
       "        text-align: right;\n",
       "    }\n",
       "</style>\n",
       "<table border=\"1\" class=\"dataframe\">\n",
       "  <thead>\n",
       "    <tr style=\"text-align: right;\">\n",
       "      <th></th>\n",
       "      <th>NUM_ANK</th>\n",
       "      <th>region</th>\n",
       "      <th>resppos</th>\n",
       "      <th>nempl_1</th>\n",
       "      <th>nempl</th>\n",
       "      <th>industry</th>\n",
       "      <th>year_found</th>\n",
       "      <th>shareprivrus</th>\n",
       "      <th>shareprivfor</th>\n",
       "      <th>sharestate</th>\n",
       "      <th>...</th>\n",
       "      <th>Q92</th>\n",
       "      <th>numcompany</th>\n",
       "      <th>inn</th>\n",
       "      <th>Q96</th>\n",
       "      <th>empl_SML</th>\n",
       "      <th>sector</th>\n",
       "      <th>year</th>\n",
       "      <th>YSS</th>\n",
       "      <th>weight_all</th>\n",
       "      <th>weight</th>\n",
       "    </tr>\n",
       "  </thead>\n",
       "  <tbody>\n",
       "    <tr>\n",
       "      <th>0</th>\n",
       "      <td>0</td>\n",
       "      <td>16</td>\n",
       "      <td>98</td>\n",
       "      <td>54</td>\n",
       "      <td>59</td>\n",
       "      <td>1</td>\n",
       "      <td>1998</td>\n",
       "      <td>100.0</td>\n",
       "      <td>0.0</td>\n",
       "      <td>0.0</td>\n",
       "      <td>...</td>\n",
       "      <td>88553308068</td>\n",
       "      <td>1</td>\n",
       "      <td>1636002647</td>\n",
       "      <td>99</td>\n",
       "      <td>0</td>\n",
       "      <td>1</td>\n",
       "      <td>2021</td>\n",
       "      <td>202110</td>\n",
       "      <td>0.28231</td>\n",
       "      <td>0.28231</td>\n",
       "    </tr>\n",
       "    <tr>\n",
       "      <th>1</th>\n",
       "      <td>7217</td>\n",
       "      <td>72</td>\n",
       "      <td>4</td>\n",
       "      <td>77</td>\n",
       "      <td>77</td>\n",
       "      <td>1</td>\n",
       "      <td>2007</td>\n",
       "      <td>100.0</td>\n",
       "      <td>0.0</td>\n",
       "      <td>0.0</td>\n",
       "      <td>...</td>\n",
       "      <td>83452211434</td>\n",
       "      <td>1</td>\n",
       "      <td>7203200223</td>\n",
       "      <td>99</td>\n",
       "      <td>0</td>\n",
       "      <td>1</td>\n",
       "      <td>2021</td>\n",
       "      <td>202110</td>\n",
       "      <td>0.28231</td>\n",
       "      <td>0.28231</td>\n",
       "    </tr>\n",
       "    <tr>\n",
       "      <th>2</th>\n",
       "      <td>8491</td>\n",
       "      <td>72</td>\n",
       "      <td>5</td>\n",
       "      <td>13</td>\n",
       "      <td>36</td>\n",
       "      <td>2</td>\n",
       "      <td>2014</td>\n",
       "      <td>100.0</td>\n",
       "      <td>0.0</td>\n",
       "      <td>0.0</td>\n",
       "      <td>...</td>\n",
       "      <td>89220027117</td>\n",
       "      <td>1</td>\n",
       "      <td>7204207503</td>\n",
       "      <td>99</td>\n",
       "      <td>0</td>\n",
       "      <td>1</td>\n",
       "      <td>2021</td>\n",
       "      <td>202110</td>\n",
       "      <td>0.28231</td>\n",
       "      <td>0.28231</td>\n",
       "    </tr>\n",
       "    <tr>\n",
       "      <th>3</th>\n",
       "      <td>7349</td>\n",
       "      <td>61</td>\n",
       "      <td>4</td>\n",
       "      <td>65</td>\n",
       "      <td>65</td>\n",
       "      <td>1</td>\n",
       "      <td>2008</td>\n",
       "      <td>100.0</td>\n",
       "      <td>0.0</td>\n",
       "      <td>0.0</td>\n",
       "      <td>...</td>\n",
       "      <td>88636033406</td>\n",
       "      <td>-1</td>\n",
       "      <td>6125026936</td>\n",
       "      <td>99</td>\n",
       "      <td>0</td>\n",
       "      <td>1</td>\n",
       "      <td>2021</td>\n",
       "      <td>202110</td>\n",
       "      <td>0.28231</td>\n",
       "      <td>0.28231</td>\n",
       "    </tr>\n",
       "    <tr>\n",
       "      <th>4</th>\n",
       "      <td>7209</td>\n",
       "      <td>72</td>\n",
       "      <td>7</td>\n",
       "      <td>72</td>\n",
       "      <td>72</td>\n",
       "      <td>1</td>\n",
       "      <td>2016</td>\n",
       "      <td>100.0</td>\n",
       "      <td>0.0</td>\n",
       "      <td>0.0</td>\n",
       "      <td>...</td>\n",
       "      <td>83452685146</td>\n",
       "      <td>1</td>\n",
       "      <td>7203393511</td>\n",
       "      <td>99</td>\n",
       "      <td>0</td>\n",
       "      <td>1</td>\n",
       "      <td>2021</td>\n",
       "      <td>202110</td>\n",
       "      <td>0.28231</td>\n",
       "      <td>0.28231</td>\n",
       "    </tr>\n",
       "  </tbody>\n",
       "</table>\n",
       "<p>5 rows × 596 columns</p>\n",
       "</div>"
      ],
      "text/plain": [
       "   NUM_ANK  region  resppos  nempl_1  nempl  industry  year_found  \\\n",
       "0        0      16       98       54     59         1        1998   \n",
       "1     7217      72        4       77     77         1        2007   \n",
       "2     8491      72        5       13     36         2        2014   \n",
       "3     7349      61        4       65     65         1        2008   \n",
       "4     7209      72        7       72     72         1        2016   \n",
       "\n",
       "   shareprivrus  shareprivfor  sharestate  ...          Q92  numcompany  \\\n",
       "0         100.0           0.0         0.0  ...  88553308068           1   \n",
       "1         100.0           0.0         0.0  ...  83452211434           1   \n",
       "2         100.0           0.0         0.0  ...  89220027117           1   \n",
       "3         100.0           0.0         0.0  ...  88636033406          -1   \n",
       "4         100.0           0.0         0.0  ...  83452685146           1   \n",
       "\n",
       "          inn  Q96  empl_SML  sector  year     YSS  weight_all   weight  \n",
       "0  1636002647   99         0       1  2021  202110     0.28231  0.28231  \n",
       "1  7203200223   99         0       1  2021  202110     0.28231  0.28231  \n",
       "2  7204207503   99         0       1  2021  202110     0.28231  0.28231  \n",
       "3  6125026936   99         0       1  2021  202110     0.28231  0.28231  \n",
       "4  7203393511   99         0       1  2021  202110     0.28231  0.28231  \n",
       "\n",
       "[5 rows x 596 columns]"
      ]
     },
     "execution_count": 2,
     "metadata": {},
     "output_type": "execute_result"
    }
   ],
   "source": [
    "data = pd.read_csv('ielm2021.csv', sep='\\t')\n",
    "data.head(5)"
   ]
  },
  {
   "cell_type": "markdown",
   "id": "fe0d2f66",
   "metadata": {},
   "source": [
    "Изучим общую информацию о датасете"
   ]
  },
  {
   "cell_type": "code",
   "execution_count": 3,
   "id": "0435d801",
   "metadata": {},
   "outputs": [
    {
     "name": "stdout",
     "output_type": "stream",
     "text": [
      "<class 'pandas.core.frame.DataFrame'>\n",
      "RangeIndex: 1287 entries, 0 to 1286\n",
      "Columns: 596 entries, NUM_ANK to weight\n",
      "dtypes: float64(111), int64(485)\n",
      "memory usage: 5.9 MB\n"
     ]
    }
   ],
   "source": [
    "data.info()"
   ]
  },
  {
   "cell_type": "markdown",
   "id": "d3b0df78",
   "metadata": {},
   "source": [
    "Датасет состоит из 596 столбцов, которые составлены на основе вопросника), и 1287 строк."
   ]
  },
  {
   "cell_type": "code",
   "execution_count": 4,
   "id": "f9ecfe20",
   "metadata": {},
   "outputs": [
    {
     "data": {
      "text/plain": [
       "(1287, 596)"
      ]
     },
     "execution_count": 4,
     "metadata": {},
     "output_type": "execute_result"
    }
   ],
   "source": [
    "data.shape"
   ]
  },
  {
   "cell_type": "markdown",
   "id": "a8fcb31a",
   "metadata": {},
   "source": [
    "Проверим в каких столбцах присутствуют пропуски"
   ]
  },
  {
   "cell_type": "code",
   "execution_count": 5,
   "id": "315740f5",
   "metadata": {},
   "outputs": [
    {
     "data": {
      "text/plain": [
       "shareprivrus       28\n",
       "shareprivfor       28\n",
       "sharestate         28\n",
       "shareother         28\n",
       "managers_1        142\n",
       "                 ... \n",
       "train_on          946\n",
       "trainmoney        946\n",
       "trainmoneyoff    1056\n",
       "trainmoneyon     1056\n",
       "Q85_999           946\n",
       "Length: 96, dtype: int64"
      ]
     },
     "execution_count": 5,
     "metadata": {},
     "output_type": "execute_result"
    }
   ],
   "source": [
    "data.isna().sum()[data.isna().sum()!=0]"
   ]
  },
  {
   "cell_type": "markdown",
   "id": "a79bcfc4",
   "metadata": {},
   "source": [
    "Из 596 столбцов, пропуски есть только в 96 столбцах."
   ]
  },
  {
   "cell_type": "code",
   "execution_count": 6,
   "id": "9bdf4774",
   "metadata": {},
   "outputs": [
    {
     "data": {
      "text/html": [
       "<div>\n",
       "<style scoped>\n",
       "    .dataframe tbody tr th:only-of-type {\n",
       "        vertical-align: middle;\n",
       "    }\n",
       "\n",
       "    .dataframe tbody tr th {\n",
       "        vertical-align: top;\n",
       "    }\n",
       "\n",
       "    .dataframe thead th {\n",
       "        text-align: right;\n",
       "    }\n",
       "</style>\n",
       "<table border=\"1\" class=\"dataframe\">\n",
       "  <thead>\n",
       "    <tr style=\"text-align: right;\">\n",
       "      <th></th>\n",
       "      <th>NUM_ANK</th>\n",
       "      <th>region</th>\n",
       "      <th>resppos</th>\n",
       "      <th>nempl_1</th>\n",
       "      <th>nempl</th>\n",
       "      <th>industry</th>\n",
       "      <th>year_found</th>\n",
       "      <th>shareprivrus</th>\n",
       "      <th>shareprivfor</th>\n",
       "      <th>sharestate</th>\n",
       "      <th>...</th>\n",
       "      <th>Q92</th>\n",
       "      <th>numcompany</th>\n",
       "      <th>inn</th>\n",
       "      <th>Q96</th>\n",
       "      <th>empl_SML</th>\n",
       "      <th>sector</th>\n",
       "      <th>year</th>\n",
       "      <th>YSS</th>\n",
       "      <th>weight_all</th>\n",
       "      <th>weight</th>\n",
       "    </tr>\n",
       "  </thead>\n",
       "  <tbody>\n",
       "    <tr>\n",
       "      <th>count</th>\n",
       "      <td>1287.000000</td>\n",
       "      <td>1287.000000</td>\n",
       "      <td>1287.000000</td>\n",
       "      <td>1287.000000</td>\n",
       "      <td>1287.000000</td>\n",
       "      <td>1287.000000</td>\n",
       "      <td>1287.000000</td>\n",
       "      <td>1259.000000</td>\n",
       "      <td>1259.000000</td>\n",
       "      <td>1259.000000</td>\n",
       "      <td>...</td>\n",
       "      <td>1.287000e+03</td>\n",
       "      <td>1.287000e+03</td>\n",
       "      <td>1.287000e+03</td>\n",
       "      <td>1287.000000</td>\n",
       "      <td>1287.000000</td>\n",
       "      <td>1287.000000</td>\n",
       "      <td>1287.0</td>\n",
       "      <td>1287.000000</td>\n",
       "      <td>1287.000000</td>\n",
       "      <td>1287.000000</td>\n",
       "    </tr>\n",
       "    <tr>\n",
       "      <th>mean</th>\n",
       "      <td>9940.055167</td>\n",
       "      <td>54.130536</td>\n",
       "      <td>6.677545</td>\n",
       "      <td>324.751360</td>\n",
       "      <td>328.134421</td>\n",
       "      <td>16.222999</td>\n",
       "      <td>2000.906760</td>\n",
       "      <td>96.247021</td>\n",
       "      <td>0.381255</td>\n",
       "      <td>1.949960</td>\n",
       "      <td>...</td>\n",
       "      <td>8.602324e+10</td>\n",
       "      <td>9.659668e+08</td>\n",
       "      <td>5.507849e+09</td>\n",
       "      <td>85.065268</td>\n",
       "      <td>0.773116</td>\n",
       "      <td>3.867910</td>\n",
       "      <td>2021.0</td>\n",
       "      <td>202139.452214</td>\n",
       "      <td>0.932401</td>\n",
       "      <td>0.932401</td>\n",
       "    </tr>\n",
       "    <tr>\n",
       "      <th>std</th>\n",
       "      <td>17414.682402</td>\n",
       "      <td>23.304264</td>\n",
       "      <td>16.035710</td>\n",
       "      <td>1284.510801</td>\n",
       "      <td>1295.975934</td>\n",
       "      <td>14.144747</td>\n",
       "      <td>69.607893</td>\n",
       "      <td>18.117752</td>\n",
       "      <td>5.040929</td>\n",
       "      <td>13.100075</td>\n",
       "      <td>...</td>\n",
       "      <td>2.546768e+09</td>\n",
       "      <td>2.980814e+10</td>\n",
       "      <td>2.341271e+09</td>\n",
       "      <td>34.239420</td>\n",
       "      <td>0.835521</td>\n",
       "      <td>1.929058</td>\n",
       "      <td>0.0</td>\n",
       "      <td>19.220842</td>\n",
       "      <td>0.470809</td>\n",
       "      <td>0.470809</td>\n",
       "    </tr>\n",
       "    <tr>\n",
       "      <th>min</th>\n",
       "      <td>0.000000</td>\n",
       "      <td>2.000000</td>\n",
       "      <td>1.000000</td>\n",
       "      <td>5.000000</td>\n",
       "      <td>30.000000</td>\n",
       "      <td>1.000000</td>\n",
       "      <td>999.000000</td>\n",
       "      <td>0.000000</td>\n",
       "      <td>0.000000</td>\n",
       "      <td>0.000000</td>\n",
       "      <td>...</td>\n",
       "      <td>8.302232e+10</td>\n",
       "      <td>-1.600000e+01</td>\n",
       "      <td>2.170026e+08</td>\n",
       "      <td>1.000000</td>\n",
       "      <td>0.000000</td>\n",
       "      <td>1.000000</td>\n",
       "      <td>2021.0</td>\n",
       "      <td>202110.000000</td>\n",
       "      <td>0.200259</td>\n",
       "      <td>0.200259</td>\n",
       "    </tr>\n",
       "    <tr>\n",
       "      <th>25%</th>\n",
       "      <td>2338.000000</td>\n",
       "      <td>36.000000</td>\n",
       "      <td>2.000000</td>\n",
       "      <td>46.000000</td>\n",
       "      <td>47.000000</td>\n",
       "      <td>15.000000</td>\n",
       "      <td>2002.000000</td>\n",
       "      <td>100.000000</td>\n",
       "      <td>0.000000</td>\n",
       "      <td>0.000000</td>\n",
       "      <td>...</td>\n",
       "      <td>8.347294e+10</td>\n",
       "      <td>-1.000000e+00</td>\n",
       "      <td>3.808094e+09</td>\n",
       "      <td>99.000000</td>\n",
       "      <td>0.000000</td>\n",
       "      <td>2.000000</td>\n",
       "      <td>2021.0</td>\n",
       "      <td>202121.000000</td>\n",
       "      <td>0.459095</td>\n",
       "      <td>0.459095</td>\n",
       "    </tr>\n",
       "    <tr>\n",
       "      <th>50%</th>\n",
       "      <td>6108.000000</td>\n",
       "      <td>63.000000</td>\n",
       "      <td>4.000000</td>\n",
       "      <td>100.000000</td>\n",
       "      <td>103.000000</td>\n",
       "      <td>17.000000</td>\n",
       "      <td>2007.000000</td>\n",
       "      <td>100.000000</td>\n",
       "      <td>0.000000</td>\n",
       "      <td>0.000000</td>\n",
       "      <td>...</td>\n",
       "      <td>8.495489e+10</td>\n",
       "      <td>1.000000e+00</td>\n",
       "      <td>6.314013e+09</td>\n",
       "      <td>99.000000</td>\n",
       "      <td>1.000000</td>\n",
       "      <td>4.000000</td>\n",
       "      <td>2021.0</td>\n",
       "      <td>202140.000000</td>\n",
       "      <td>1.053129</td>\n",
       "      <td>1.053129</td>\n",
       "    </tr>\n",
       "    <tr>\n",
       "      <th>75%</th>\n",
       "      <td>7826.500000</td>\n",
       "      <td>73.000000</td>\n",
       "      <td>5.000000</td>\n",
       "      <td>250.000000</td>\n",
       "      <td>255.000000</td>\n",
       "      <td>19.000000</td>\n",
       "      <td>2012.000000</td>\n",
       "      <td>100.000000</td>\n",
       "      <td>0.000000</td>\n",
       "      <td>0.000000</td>\n",
       "      <td>...</td>\n",
       "      <td>8.861275e+10</td>\n",
       "      <td>1.000000e+00</td>\n",
       "      <td>7.451279e+09</td>\n",
       "      <td>99.000000</td>\n",
       "      <td>2.000000</td>\n",
       "      <td>5.000000</td>\n",
       "      <td>2021.0</td>\n",
       "      <td>202152.000000</td>\n",
       "      <td>1.190323</td>\n",
       "      <td>1.190323</td>\n",
       "    </tr>\n",
       "    <tr>\n",
       "      <th>max</th>\n",
       "      <td>73353.000000</td>\n",
       "      <td>86.000000</td>\n",
       "      <td>98.000000</td>\n",
       "      <td>30000.000000</td>\n",
       "      <td>30000.000000</td>\n",
       "      <td>132.000000</td>\n",
       "      <td>2021.000000</td>\n",
       "      <td>100.000000</td>\n",
       "      <td>100.000000</td>\n",
       "      <td>100.000000</td>\n",
       "      <td>...</td>\n",
       "      <td>9.000000e+10</td>\n",
       "      <td>1.062536e+12</td>\n",
       "      <td>9.729279e+09</td>\n",
       "      <td>99.000000</td>\n",
       "      <td>2.000000</td>\n",
       "      <td>7.000000</td>\n",
       "      <td>2021.0</td>\n",
       "      <td>202172.000000</td>\n",
       "      <td>2.509619</td>\n",
       "      <td>2.509619</td>\n",
       "    </tr>\n",
       "  </tbody>\n",
       "</table>\n",
       "<p>8 rows × 596 columns</p>\n",
       "</div>"
      ],
      "text/plain": [
       "            NUM_ANK       region      resppos       nempl_1         nempl  \\\n",
       "count   1287.000000  1287.000000  1287.000000   1287.000000   1287.000000   \n",
       "mean    9940.055167    54.130536     6.677545    324.751360    328.134421   \n",
       "std    17414.682402    23.304264    16.035710   1284.510801   1295.975934   \n",
       "min        0.000000     2.000000     1.000000      5.000000     30.000000   \n",
       "25%     2338.000000    36.000000     2.000000     46.000000     47.000000   \n",
       "50%     6108.000000    63.000000     4.000000    100.000000    103.000000   \n",
       "75%     7826.500000    73.000000     5.000000    250.000000    255.000000   \n",
       "max    73353.000000    86.000000    98.000000  30000.000000  30000.000000   \n",
       "\n",
       "          industry   year_found  shareprivrus  shareprivfor   sharestate  ...  \\\n",
       "count  1287.000000  1287.000000   1259.000000   1259.000000  1259.000000  ...   \n",
       "mean     16.222999  2000.906760     96.247021      0.381255     1.949960  ...   \n",
       "std      14.144747    69.607893     18.117752      5.040929    13.100075  ...   \n",
       "min       1.000000   999.000000      0.000000      0.000000     0.000000  ...   \n",
       "25%      15.000000  2002.000000    100.000000      0.000000     0.000000  ...   \n",
       "50%      17.000000  2007.000000    100.000000      0.000000     0.000000  ...   \n",
       "75%      19.000000  2012.000000    100.000000      0.000000     0.000000  ...   \n",
       "max     132.000000  2021.000000    100.000000    100.000000   100.000000  ...   \n",
       "\n",
       "                Q92    numcompany           inn          Q96     empl_SML  \\\n",
       "count  1.287000e+03  1.287000e+03  1.287000e+03  1287.000000  1287.000000   \n",
       "mean   8.602324e+10  9.659668e+08  5.507849e+09    85.065268     0.773116   \n",
       "std    2.546768e+09  2.980814e+10  2.341271e+09    34.239420     0.835521   \n",
       "min    8.302232e+10 -1.600000e+01  2.170026e+08     1.000000     0.000000   \n",
       "25%    8.347294e+10 -1.000000e+00  3.808094e+09    99.000000     0.000000   \n",
       "50%    8.495489e+10  1.000000e+00  6.314013e+09    99.000000     1.000000   \n",
       "75%    8.861275e+10  1.000000e+00  7.451279e+09    99.000000     2.000000   \n",
       "max    9.000000e+10  1.062536e+12  9.729279e+09    99.000000     2.000000   \n",
       "\n",
       "            sector    year            YSS   weight_all       weight  \n",
       "count  1287.000000  1287.0    1287.000000  1287.000000  1287.000000  \n",
       "mean      3.867910  2021.0  202139.452214     0.932401     0.932401  \n",
       "std       1.929058     0.0      19.220842     0.470809     0.470809  \n",
       "min       1.000000  2021.0  202110.000000     0.200259     0.200259  \n",
       "25%       2.000000  2021.0  202121.000000     0.459095     0.459095  \n",
       "50%       4.000000  2021.0  202140.000000     1.053129     1.053129  \n",
       "75%       5.000000  2021.0  202152.000000     1.190323     1.190323  \n",
       "max       7.000000  2021.0  202172.000000     2.509619     2.509619  \n",
       "\n",
       "[8 rows x 596 columns]"
      ]
     },
     "execution_count": 6,
     "metadata": {},
     "output_type": "execute_result"
    }
   ],
   "source": [
    "data.describe()"
   ]
  },
  {
   "cell_type": "markdown",
   "id": "75f021c8",
   "metadata": {},
   "source": [
    "## Обработка данных"
   ]
  },
  {
   "cell_type": "markdown",
   "id": "6ade153c",
   "metadata": {},
   "source": [
    "Сделаем более корректные названия столбцов."
   ]
  },
  {
   "cell_type": "code",
   "execution_count": 7,
   "id": "2b5e2e98",
   "metadata": {},
   "outputs": [
    {
     "data": {
      "text/plain": [
       "Index(['num_ank', 'region', 'resppos', 'nempl_1', 'nempl', 'industry',\n",
       "       'year_found', 'shareprivrus', 'shareprivfor', 'sharestate',\n",
       "       ...\n",
       "       'q92', 'numcompany', 'inn', 'q96', 'empl_sml', 'sector', 'year', 'yss',\n",
       "       'weight_all', 'weight'],\n",
       "      dtype='object', length=596)"
      ]
     },
     "execution_count": 7,
     "metadata": {},
     "output_type": "execute_result"
    }
   ],
   "source": [
    "data.columns = data.columns.str.lower().str.strip()\n",
    "data.columns"
   ]
  },
  {
   "cell_type": "markdown",
   "id": "3e6cc690",
   "metadata": {},
   "source": [
    "Проверим какие типы имеют наши данные"
   ]
  },
  {
   "cell_type": "code",
   "execution_count": 8,
   "id": "49d38a60",
   "metadata": {},
   "outputs": [
    {
     "data": {
      "text/plain": [
       "Series([], dtype: object)"
      ]
     },
     "execution_count": 8,
     "metadata": {},
     "output_type": "execute_result"
    }
   ],
   "source": [
    "data.dtypes[(data.dtypes != 'int64')&(data.dtypes !='float64')]"
   ]
  },
  {
   "cell_type": "markdown",
   "id": "f746a7a8",
   "metadata": {},
   "source": [
    "В данных присутствуют только количественные признаки."
   ]
  },
  {
   "cell_type": "markdown",
   "id": "a3efc4b9",
   "metadata": {},
   "source": [
    " "
   ]
  },
  {
   "cell_type": "code",
   "execution_count": 9,
   "id": "7f1414dd",
   "metadata": {},
   "outputs": [
    {
     "data": {
      "text/plain": [
       "0"
      ]
     },
     "execution_count": 9,
     "metadata": {},
     "output_type": "execute_result"
    }
   ],
   "source": [
    "data.duplicated().sum()"
   ]
  },
  {
   "cell_type": "markdown",
   "id": "3acd72a0",
   "metadata": {},
   "source": [
    "В данных отсутствуют явные дубликаты, а неявных быть не может, так как у нас только числовые признаки."
   ]
  },
  {
   "cell_type": "markdown",
   "id": "b8831778",
   "metadata": {},
   "source": [
    "## Поиск ответов на вопросы."
   ]
  },
  {
   "cell_type": "markdown",
   "id": "ff2878bb",
   "metadata": {},
   "source": [
    "### на какие должности больше берут мигрантов?"
   ]
  },
  {
   "cell_type": "code",
   "execution_count": 10,
   "id": "20a97f92",
   "metadata": {},
   "outputs": [
    {
     "data": {
      "text/plain": [
       "array([  1,   2,   3,  15,  14,   4,  12,   6,  10,  11, 131, 132,   5,\n",
       "         7,   8,   9,  16,  17,  18,  19,  20], dtype=int64)"
      ]
     },
     "execution_count": 10,
     "metadata": {},
     "output_type": "execute_result"
    }
   ],
   "source": [
    "data['industry'].unique()"
   ]
  },
  {
   "cell_type": "code",
   "execution_count": 11,
   "id": "d0e3772d",
   "metadata": {},
   "outputs": [
    {
     "data": {
      "text/html": [
       "<div>\n",
       "<style scoped>\n",
       "    .dataframe tbody tr th:only-of-type {\n",
       "        vertical-align: middle;\n",
       "    }\n",
       "\n",
       "    .dataframe tbody tr th {\n",
       "        vertical-align: top;\n",
       "    }\n",
       "\n",
       "    .dataframe thead th {\n",
       "        text-align: right;\n",
       "    }\n",
       "</style>\n",
       "<table border=\"1\" class=\"dataframe\">\n",
       "  <thead>\n",
       "    <tr style=\"text-align: right;\">\n",
       "      <th></th>\n",
       "      <th>count</th>\n",
       "      <th>percentage</th>\n",
       "    </tr>\n",
       "    <tr>\n",
       "      <th>industry</th>\n",
       "      <th></th>\n",
       "      <th></th>\n",
       "    </tr>\n",
       "  </thead>\n",
       "  <tbody>\n",
       "    <tr>\n",
       "      <th>17</th>\n",
       "      <td>257</td>\n",
       "      <td>0.200</td>\n",
       "    </tr>\n",
       "    <tr>\n",
       "      <th>20</th>\n",
       "      <td>188</td>\n",
       "      <td>0.146</td>\n",
       "    </tr>\n",
       "    <tr>\n",
       "      <th>16</th>\n",
       "      <td>167</td>\n",
       "      <td>0.130</td>\n",
       "    </tr>\n",
       "    <tr>\n",
       "      <th>19</th>\n",
       "      <td>132</td>\n",
       "      <td>0.103</td>\n",
       "    </tr>\n",
       "    <tr>\n",
       "      <th>18</th>\n",
       "      <td>127</td>\n",
       "      <td>0.099</td>\n",
       "    </tr>\n",
       "    <tr>\n",
       "      <th>15</th>\n",
       "      <td>110</td>\n",
       "      <td>0.085</td>\n",
       "    </tr>\n",
       "    <tr>\n",
       "      <th>2</th>\n",
       "      <td>76</td>\n",
       "      <td>0.059</td>\n",
       "    </tr>\n",
       "    <tr>\n",
       "      <th>6</th>\n",
       "      <td>52</td>\n",
       "      <td>0.040</td>\n",
       "    </tr>\n",
       "    <tr>\n",
       "      <th>1</th>\n",
       "      <td>50</td>\n",
       "      <td>0.039</td>\n",
       "    </tr>\n",
       "    <tr>\n",
       "      <th>12</th>\n",
       "      <td>35</td>\n",
       "      <td>0.027</td>\n",
       "    </tr>\n",
       "    <tr>\n",
       "      <th>11</th>\n",
       "      <td>17</td>\n",
       "      <td>0.013</td>\n",
       "    </tr>\n",
       "    <tr>\n",
       "      <th>4</th>\n",
       "      <td>16</td>\n",
       "      <td>0.012</td>\n",
       "    </tr>\n",
       "    <tr>\n",
       "      <th>3</th>\n",
       "      <td>16</td>\n",
       "      <td>0.012</td>\n",
       "    </tr>\n",
       "    <tr>\n",
       "      <th>10</th>\n",
       "      <td>11</td>\n",
       "      <td>0.009</td>\n",
       "    </tr>\n",
       "    <tr>\n",
       "      <th>132</th>\n",
       "      <td>10</td>\n",
       "      <td>0.008</td>\n",
       "    </tr>\n",
       "    <tr>\n",
       "      <th>14</th>\n",
       "      <td>9</td>\n",
       "      <td>0.007</td>\n",
       "    </tr>\n",
       "    <tr>\n",
       "      <th>131</th>\n",
       "      <td>6</td>\n",
       "      <td>0.005</td>\n",
       "    </tr>\n",
       "    <tr>\n",
       "      <th>7</th>\n",
       "      <td>4</td>\n",
       "      <td>0.003</td>\n",
       "    </tr>\n",
       "    <tr>\n",
       "      <th>9</th>\n",
       "      <td>2</td>\n",
       "      <td>0.002</td>\n",
       "    </tr>\n",
       "    <tr>\n",
       "      <th>8</th>\n",
       "      <td>1</td>\n",
       "      <td>0.001</td>\n",
       "    </tr>\n",
       "    <tr>\n",
       "      <th>5</th>\n",
       "      <td>1</td>\n",
       "      <td>0.001</td>\n",
       "    </tr>\n",
       "  </tbody>\n",
       "</table>\n",
       "</div>"
      ],
      "text/plain": [
       "          count  percentage\n",
       "industry                   \n",
       "17          257       0.200\n",
       "20          188       0.146\n",
       "16          167       0.130\n",
       "19          132       0.103\n",
       "18          127       0.099\n",
       "15          110       0.085\n",
       "2            76       0.059\n",
       "6            52       0.040\n",
       "1            50       0.039\n",
       "12           35       0.027\n",
       "11           17       0.013\n",
       "4            16       0.012\n",
       "3            16       0.012\n",
       "10           11       0.009\n",
       "132          10       0.008\n",
       "14            9       0.007\n",
       "131           6       0.005\n",
       "7             4       0.003\n",
       "9             2       0.002\n",
       "8             1       0.001\n",
       "5             1       0.001"
      ]
     },
     "metadata": {},
     "output_type": "display_data"
    },
    {
     "data": {
      "text/plain": [
       "0.763"
      ]
     },
     "execution_count": 11,
     "metadata": {},
     "output_type": "execute_result"
    }
   ],
   "source": [
    "b = data.pivot_table(index='industry',values=['region'],aggfunc=['count'])\n",
    "b.columns = ['count']\n",
    "\n",
    "b = b.sort_values(ascending=False, by='count')\n",
    "b['percentage'] = round(b['count']/b['count'].sum(),3)\n",
    "display(b)\n",
    "round(b.head(6)['percentage'].sum(),3)\n"
   ]
  },
  {
   "cell_type": "markdown",
   "id": "9314edc3",
   "metadata": {},
   "source": [
    "Как видно, всего 6 индустриям досталось 76.3% работников.\n",
    "\n",
    "Больше всего раюотает в индустрии под номером 17 (\"Оптовая и розничная торговля; ремонт автотранспортных средств, мотоциклов, бытовых изделий и предметов личного пользования\") - 20%. \n",
    "На втором месте 20 (\"Операции с недвижимым имуществом, аренда и предоставление услуг\") - 14.5%."
   ]
  },
  {
   "cell_type": "markdown",
   "id": "737d7a6d",
   "metadata": {},
   "source": [
    "### почему какие-то предприятия нанимают больше мигрантов, а какие-то меньше. причины привлечения иностранных работников?\n"
   ]
  },
  {
   "cell_type": "code",
   "execution_count": 12,
   "id": "65610c2c",
   "metadata": {},
   "outputs": [
    {
     "data": {
      "text/plain": [
       "997.0    1016\n",
       "10.0       47\n",
       "999.0      41\n",
       "20.0       36\n",
       "15.0       27\n",
       "5.0        27\n",
       "30.0       24\n",
       "1.0        12\n",
       "25.0       11\n",
       "40.0       10\n",
       "2.0         9\n",
       "35.0        7\n",
       "3.0         4\n",
       "14.8        3\n",
       "8.0         3\n",
       "50.0        2\n",
       "7.0         2\n",
       "90.0        2\n",
       "6.0         2\n",
       "60.0        2\n",
       "Name: sharemigrant, dtype: int64"
      ]
     },
     "execution_count": 12,
     "metadata": {},
     "output_type": "execute_result"
    }
   ],
   "source": [
    "b = data['sharemigrant'].value_counts().sort_values(ascending=False)\n",
    "b"
   ]
  },
  {
   "cell_type": "code",
   "execution_count": 13,
   "id": "4c91489d",
   "metadata": {},
   "outputs": [
    {
     "data": {
      "text/plain": [
       "<Axes: >"
      ]
     },
     "execution_count": 13,
     "metadata": {},
     "output_type": "execute_result"
    },
    {
     "data": {
      "image/png": "[encoded data removed]",
      "text/plain": [
       "<Figure size 640x480 with 1 Axes>"
      ]
     },
     "metadata": {},
     "output_type": "display_data"
    }
   ],
   "source": [
    "b.plot(kind='bar')"
   ]
  },
  {
   "cell_type": "markdown",
   "id": "36ce9e73",
   "metadata": {},
   "source": [
    "Подавляющие большинство, а именно 1016 человек утверждает, что на их работе совсем отсутствуют мигранты"
   ]
  },
  {
   "cell_type": "markdown",
   "id": "6d089028",
   "metadata": {},
   "source": [
    "Рассмотрим для каждой индустрии характерное ей,по мнению опрашиваемых, процентное количество мигрантов"
   ]
  },
  {
   "cell_type": "code",
   "execution_count": 14,
   "id": "8b50ae43",
   "metadata": {},
   "outputs": [
    {
     "data": {
      "text/html": [
       "<div>\n",
       "<style scoped>\n",
       "    .dataframe tbody tr th:only-of-type {\n",
       "        vertical-align: middle;\n",
       "    }\n",
       "\n",
       "    .dataframe tbody tr th {\n",
       "        vertical-align: top;\n",
       "    }\n",
       "\n",
       "    .dataframe thead th {\n",
       "        text-align: right;\n",
       "    }\n",
       "</style>\n",
       "<table border=\"1\" class=\"dataframe\">\n",
       "  <thead>\n",
       "    <tr style=\"text-align: right;\">\n",
       "      <th></th>\n",
       "      <th>max</th>\n",
       "    </tr>\n",
       "    <tr>\n",
       "      <th>industry</th>\n",
       "      <th></th>\n",
       "    </tr>\n",
       "  </thead>\n",
       "  <tbody>\n",
       "    <tr>\n",
       "      <th>8</th>\n",
       "      <td>30.0</td>\n",
       "    </tr>\n",
       "    <tr>\n",
       "      <th>1</th>\n",
       "      <td>997.0</td>\n",
       "    </tr>\n",
       "    <tr>\n",
       "      <th>14</th>\n",
       "      <td>997.0</td>\n",
       "    </tr>\n",
       "    <tr>\n",
       "      <th>12</th>\n",
       "      <td>997.0</td>\n",
       "    </tr>\n",
       "    <tr>\n",
       "      <th>131</th>\n",
       "      <td>997.0</td>\n",
       "    </tr>\n",
       "    <tr>\n",
       "      <th>10</th>\n",
       "      <td>997.0</td>\n",
       "    </tr>\n",
       "    <tr>\n",
       "      <th>9</th>\n",
       "      <td>997.0</td>\n",
       "    </tr>\n",
       "    <tr>\n",
       "      <th>11</th>\n",
       "      <td>997.0</td>\n",
       "    </tr>\n",
       "    <tr>\n",
       "      <th>6</th>\n",
       "      <td>997.0</td>\n",
       "    </tr>\n",
       "    <tr>\n",
       "      <th>5</th>\n",
       "      <td>997.0</td>\n",
       "    </tr>\n",
       "    <tr>\n",
       "      <th>4</th>\n",
       "      <td>997.0</td>\n",
       "    </tr>\n",
       "    <tr>\n",
       "      <th>3</th>\n",
       "      <td>997.0</td>\n",
       "    </tr>\n",
       "    <tr>\n",
       "      <th>7</th>\n",
       "      <td>997.0</td>\n",
       "    </tr>\n",
       "    <tr>\n",
       "      <th>132</th>\n",
       "      <td>997.0</td>\n",
       "    </tr>\n",
       "    <tr>\n",
       "      <th>2</th>\n",
       "      <td>999.0</td>\n",
       "    </tr>\n",
       "    <tr>\n",
       "      <th>15</th>\n",
       "      <td>999.0</td>\n",
       "    </tr>\n",
       "    <tr>\n",
       "      <th>16</th>\n",
       "      <td>999.0</td>\n",
       "    </tr>\n",
       "    <tr>\n",
       "      <th>17</th>\n",
       "      <td>999.0</td>\n",
       "    </tr>\n",
       "    <tr>\n",
       "      <th>18</th>\n",
       "      <td>999.0</td>\n",
       "    </tr>\n",
       "    <tr>\n",
       "      <th>19</th>\n",
       "      <td>999.0</td>\n",
       "    </tr>\n",
       "    <tr>\n",
       "      <th>20</th>\n",
       "      <td>999.0</td>\n",
       "    </tr>\n",
       "  </tbody>\n",
       "</table>\n",
       "</div>"
      ],
      "text/plain": [
       "            max\n",
       "industry       \n",
       "8          30.0\n",
       "1         997.0\n",
       "14        997.0\n",
       "12        997.0\n",
       "131       997.0\n",
       "10        997.0\n",
       "9         997.0\n",
       "11        997.0\n",
       "6         997.0\n",
       "5         997.0\n",
       "4         997.0\n",
       "3         997.0\n",
       "7         997.0\n",
       "132       997.0\n",
       "2         999.0\n",
       "15        999.0\n",
       "16        999.0\n",
       "17        999.0\n",
       "18        999.0\n",
       "19        999.0\n",
       "20        999.0"
      ]
     },
     "execution_count": 14,
     "metadata": {},
     "output_type": "execute_result"
    }
   ],
   "source": [
    "m = data.pivot_table(index=['industry'],values=['sharemigrant'], aggfunc='max')\n",
    "# m.head(20)\n",
    "m.columns = ['max']\n",
    "m.sort_values(by='max')"
   ]
  },
  {
   "cell_type": "code",
   "execution_count": 15,
   "id": "82638ba7",
   "metadata": {},
   "outputs": [
    {
     "data": {
      "image/png": "[encoded data removed]",
      "text/plain": [
       "<Figure size 640x480 with 1 Axes>"
      ]
     },
     "metadata": {},
     "output_type": "display_data"
    }
   ],
   "source": [
    "\n",
    "m['max'].plot(kind='bar',\n",
    "                          title='процентное количество мигрантов на предприятиях',\n",
    "                          ylabel='Количестиво от всех работников в процентах',\n",
    "                          xlabel='код предприятия',\n",
    "                          color='skyblue'\n",
    "                         );"
   ]
  },
  {
   "cell_type": "markdown",
   "id": "ed814fdf",
   "metadata": {},
   "source": [
    "Из утверждений опрошенных, следует, что в индустриях под номерами:\n",
    "- 16    \"Строительство\"\n",
    "- 17    \"Оптовая и розничная торговля; ремонт автотранспортных средств, мотоциклов, бытовых изделий и предметов личного пользования\"\n",
    "- 4     \"Текстильное и швейное производство\"\n",
    "- 10    \"Производство резиновых и пластмассовых изделий\"\n",
    "- 18    \"Транспорт и связь\""
   ]
  },
  {
   "cell_type": "markdown",
   "id": "ef4943f6",
   "metadata": {},
   "source": [
    "Затруднительно дать какой-то ответ на вопрос \"Почему какие-то предприятия нанимают больше мигрантов, а какие-то меньше.\", так как скорее всего этого более глубокие. Оставим этот вопрос пока открытым, может станетболее понятно по ходу исследования."
   ]
  },
  {
   "cell_type": "markdown",
   "id": "9289b033",
   "metadata": {},
   "source": [
    "### связаны ли как-то места, куда берут лиц пенсионного и предпенсионного возрастов и мигрантов? и почему?"
   ]
  },
  {
   "cell_type": "markdown",
   "id": "f66417e0",
   "metadata": {},
   "source": [
    "**Необходимые данные:**\n",
    "- доля мигрантов `sharemigrant`\n",
    "- доля предпенсионного возраста `shareold`\n",
    "- доля пенсионного возраста `sharevold`"
   ]
  },
  {
   "cell_type": "code",
   "execution_count": 16,
   "id": "83aadb72",
   "metadata": {},
   "outputs": [
    {
     "data": {
      "text/plain": [
       "997.0    1016\n",
       "10.0       47\n",
       "999.0      41\n",
       "20.0       36\n",
       "15.0       27\n",
       "5.0        27\n",
       "30.0       24\n",
       "1.0        12\n",
       "25.0       11\n",
       "40.0       10\n",
       "2.0         9\n",
       "35.0        7\n",
       "3.0         4\n",
       "14.8        3\n",
       "8.0         3\n",
       "50.0        2\n",
       "7.0         2\n",
       "90.0        2\n",
       "6.0         2\n",
       "60.0        2\n",
       "Name: sharemigrant, dtype: int64"
      ]
     },
     "execution_count": 16,
     "metadata": {},
     "output_type": "execute_result"
    }
   ],
   "source": [
    "m = data['sharemigrant'].value_counts().sort_values(ascending=False)\n",
    "m"
   ]
  },
  {
   "cell_type": "code",
   "execution_count": 17,
   "id": "da5fb644",
   "metadata": {},
   "outputs": [
    {
     "data": {
      "text/plain": [
       "997    335\n",
       "5      256\n",
       "10     203\n",
       "999    151\n",
       "3       45\n",
       "20      42\n",
       "15      36\n",
       "30      33\n",
       "1       31\n",
       "40      27\n",
       "25      21\n",
       "2       20\n",
       "6       19\n",
       "50      13\n",
       "35      12\n",
       "4       10\n",
       "8        9\n",
       "7        9\n",
       "45       6\n",
       "12       4\n",
       "17       2\n",
       "13       1\n",
       "9        1\n",
       "14       1\n",
       "Name: shareold, dtype: int64"
      ]
     },
     "execution_count": 17,
     "metadata": {},
     "output_type": "execute_result"
    }
   ],
   "source": [
    "o = data['shareold'].value_counts().sort_values(ascending=False)\n",
    "o"
   ]
  },
  {
   "cell_type": "code",
   "execution_count": 18,
   "id": "b7e43685",
   "metadata": {},
   "outputs": [
    {
     "data": {
      "text/plain": [
       "997.0    556\n",
       "999.0    182\n",
       "5.0      172\n",
       "10.0      84\n",
       "2.0       47\n",
       "30.0      44\n",
       "3.0       39\n",
       "1.0       29\n",
       "20.0      27\n",
       "40.0      17\n",
       "25.0      17\n",
       "4.0       16\n",
       "15.0      14\n",
       "35.0      14\n",
       "12.0       6\n",
       "6.0        5\n",
       "8.0        4\n",
       "7.0        4\n",
       "28.0       2\n",
       "9.0        2\n",
       "70.0       2\n",
       "50.0       2\n",
       "14.0       1\n",
       "6.5        1\n",
       "Name: sharevold, dtype: int64"
      ]
     },
     "execution_count": 18,
     "metadata": {},
     "output_type": "execute_result"
    }
   ],
   "source": [
    "vo = data['sharevold'].value_counts().sort_values(ascending=False)\n",
    "vo"
   ]
  },
  {
   "cell_type": "markdown",
   "id": "da5e29d7",
   "metadata": {},
   "source": [
    "Выводы:\n",
    "\n",
    "- \n",
    "- \n",
    "- \n"
   ]
  },
  {
   "cell_type": "code",
   "execution_count": 19,
   "id": "3509631d",
   "metadata": {},
   "outputs": [],
   "source": [
    "data_changed = data"
   ]
  },
  {
   "cell_type": "code",
   "execution_count": 20,
   "id": "61298d72",
   "metadata": {},
   "outputs": [],
   "source": [
    "data_changed[['sharemigrant', 'shareold', 'sharevold']] = data_changed[['sharemigrant', 'shareold', 'sharevold']].replace(997,0).replace(999,-1)"
   ]
  },
  {
   "cell_type": "code",
   "execution_count": 21,
   "id": "e20069a3",
   "metadata": {},
   "outputs": [],
   "source": [
    "# d = data.pivot_table(index=['industry'],values=['sharemigrant', 'shareold', 'sharevold'], aggfunc={'sharemigrant':['count','median'], 'shareold':'median', 'sharevold':'median'})\n",
    "# d.columns= ['total_count', 'migrants_median','old_median','vold_median']\n",
    "# d = d.replace(997.0, 0)\n",
    "# d.sort_values(by='total_count', ascending=False) # ['migrants_median','old_median','vold_median']"
   ]
  },
  {
   "cell_type": "code",
   "execution_count": 22,
   "id": "6aa4fc30",
   "metadata": {},
   "outputs": [
    {
     "data": {
      "text/html": [
       "<div>\n",
       "<style scoped>\n",
       "    .dataframe tbody tr th:only-of-type {\n",
       "        vertical-align: middle;\n",
       "    }\n",
       "\n",
       "    .dataframe tbody tr th {\n",
       "        vertical-align: top;\n",
       "    }\n",
       "\n",
       "    .dataframe thead th {\n",
       "        text-align: right;\n",
       "    }\n",
       "</style>\n",
       "<table border=\"1\" class=\"dataframe\">\n",
       "  <thead>\n",
       "    <tr style=\"text-align: right;\">\n",
       "      <th></th>\n",
       "      <th>total_count</th>\n",
       "      <th>migrants_max</th>\n",
       "      <th>old_max</th>\n",
       "      <th>vold_max</th>\n",
       "    </tr>\n",
       "    <tr>\n",
       "      <th>industry</th>\n",
       "      <th></th>\n",
       "      <th></th>\n",
       "      <th></th>\n",
       "      <th></th>\n",
       "    </tr>\n",
       "  </thead>\n",
       "  <tbody>\n",
       "    <tr>\n",
       "      <th>17</th>\n",
       "      <td>257</td>\n",
       "      <td>60.0</td>\n",
       "      <td>40</td>\n",
       "      <td>40.0</td>\n",
       "    </tr>\n",
       "    <tr>\n",
       "      <th>20</th>\n",
       "      <td>188</td>\n",
       "      <td>30.0</td>\n",
       "      <td>50</td>\n",
       "      <td>70.0</td>\n",
       "    </tr>\n",
       "    <tr>\n",
       "      <th>16</th>\n",
       "      <td>167</td>\n",
       "      <td>90.0</td>\n",
       "      <td>40</td>\n",
       "      <td>30.0</td>\n",
       "    </tr>\n",
       "    <tr>\n",
       "      <th>19</th>\n",
       "      <td>132</td>\n",
       "      <td>20.0</td>\n",
       "      <td>50</td>\n",
       "      <td>40.0</td>\n",
       "    </tr>\n",
       "    <tr>\n",
       "      <th>18</th>\n",
       "      <td>127</td>\n",
       "      <td>40.0</td>\n",
       "      <td>35</td>\n",
       "      <td>35.0</td>\n",
       "    </tr>\n",
       "    <tr>\n",
       "      <th>15</th>\n",
       "      <td>110</td>\n",
       "      <td>30.0</td>\n",
       "      <td>50</td>\n",
       "      <td>40.0</td>\n",
       "    </tr>\n",
       "    <tr>\n",
       "      <th>2</th>\n",
       "      <td>76</td>\n",
       "      <td>15.0</td>\n",
       "      <td>15</td>\n",
       "      <td>15.0</td>\n",
       "    </tr>\n",
       "    <tr>\n",
       "      <th>6</th>\n",
       "      <td>52</td>\n",
       "      <td>25.0</td>\n",
       "      <td>30</td>\n",
       "      <td>30.0</td>\n",
       "    </tr>\n",
       "    <tr>\n",
       "      <th>1</th>\n",
       "      <td>50</td>\n",
       "      <td>25.0</td>\n",
       "      <td>35</td>\n",
       "      <td>35.0</td>\n",
       "    </tr>\n",
       "    <tr>\n",
       "      <th>12</th>\n",
       "      <td>35</td>\n",
       "      <td>20.0</td>\n",
       "      <td>50</td>\n",
       "      <td>30.0</td>\n",
       "    </tr>\n",
       "    <tr>\n",
       "      <th>11</th>\n",
       "      <td>17</td>\n",
       "      <td>5.0</td>\n",
       "      <td>30</td>\n",
       "      <td>25.0</td>\n",
       "    </tr>\n",
       "    <tr>\n",
       "      <th>4</th>\n",
       "      <td>16</td>\n",
       "      <td>40.0</td>\n",
       "      <td>40</td>\n",
       "      <td>20.0</td>\n",
       "    </tr>\n",
       "    <tr>\n",
       "      <th>3</th>\n",
       "      <td>16</td>\n",
       "      <td>30.0</td>\n",
       "      <td>50</td>\n",
       "      <td>35.0</td>\n",
       "    </tr>\n",
       "    <tr>\n",
       "      <th>10</th>\n",
       "      <td>11</td>\n",
       "      <td>40.0</td>\n",
       "      <td>30</td>\n",
       "      <td>30.0</td>\n",
       "    </tr>\n",
       "    <tr>\n",
       "      <th>132</th>\n",
       "      <td>10</td>\n",
       "      <td>30.0</td>\n",
       "      <td>50</td>\n",
       "      <td>40.0</td>\n",
       "    </tr>\n",
       "    <tr>\n",
       "      <th>14</th>\n",
       "      <td>9</td>\n",
       "      <td>20.0</td>\n",
       "      <td>30</td>\n",
       "      <td>40.0</td>\n",
       "    </tr>\n",
       "    <tr>\n",
       "      <th>131</th>\n",
       "      <td>6</td>\n",
       "      <td>0.0</td>\n",
       "      <td>25</td>\n",
       "      <td>10.0</td>\n",
       "    </tr>\n",
       "    <tr>\n",
       "      <th>7</th>\n",
       "      <td>4</td>\n",
       "      <td>0.0</td>\n",
       "      <td>17</td>\n",
       "      <td>12.0</td>\n",
       "    </tr>\n",
       "    <tr>\n",
       "      <th>9</th>\n",
       "      <td>2</td>\n",
       "      <td>0.0</td>\n",
       "      <td>-1</td>\n",
       "      <td>-1.0</td>\n",
       "    </tr>\n",
       "    <tr>\n",
       "      <th>8</th>\n",
       "      <td>1</td>\n",
       "      <td>30.0</td>\n",
       "      <td>30</td>\n",
       "      <td>35.0</td>\n",
       "    </tr>\n",
       "    <tr>\n",
       "      <th>5</th>\n",
       "      <td>1</td>\n",
       "      <td>0.0</td>\n",
       "      <td>0</td>\n",
       "      <td>5.0</td>\n",
       "    </tr>\n",
       "  </tbody>\n",
       "</table>\n",
       "</div>"
      ],
      "text/plain": [
       "          total_count  migrants_max  old_max  vold_max\n",
       "industry                                              \n",
       "17                257          60.0       40      40.0\n",
       "20                188          30.0       50      70.0\n",
       "16                167          90.0       40      30.0\n",
       "19                132          20.0       50      40.0\n",
       "18                127          40.0       35      35.0\n",
       "15                110          30.0       50      40.0\n",
       "2                  76          15.0       15      15.0\n",
       "6                  52          25.0       30      30.0\n",
       "1                  50          25.0       35      35.0\n",
       "12                 35          20.0       50      30.0\n",
       "11                 17           5.0       30      25.0\n",
       "4                  16          40.0       40      20.0\n",
       "3                  16          30.0       50      35.0\n",
       "10                 11          40.0       30      30.0\n",
       "132                10          30.0       50      40.0\n",
       "14                  9          20.0       30      40.0\n",
       "131                 6           0.0       25      10.0\n",
       "7                   4           0.0       17      12.0\n",
       "9                   2           0.0       -1      -1.0\n",
       "8                   1          30.0       30      35.0\n",
       "5                   1           0.0        0       5.0"
      ]
     },
     "execution_count": 22,
     "metadata": {},
     "output_type": "execute_result"
    }
   ],
   "source": [
    "d = data_changed.pivot_table(index=['industry'],values=['sharemigrant', 'shareold', 'sharevold'], aggfunc={'sharemigrant':['count','max'], 'shareold':'max', 'sharevold':'max'})\n",
    "d.columns= ['total_count', 'migrants_max','old_max','vold_max']\n",
    "d = d.replace(997.0, 0)\n",
    "d.sort_values(by='total_count', ascending=False) # ['migrants_median','old_median','vold_median']"
   ]
  },
  {
   "cell_type": "code",
   "execution_count": 23,
   "id": "2fc18474",
   "metadata": {},
   "outputs": [
    {
     "data": {
      "text/html": [
       "<div>\n",
       "<style scoped>\n",
       "    .dataframe tbody tr th:only-of-type {\n",
       "        vertical-align: middle;\n",
       "    }\n",
       "\n",
       "    .dataframe tbody tr th {\n",
       "        vertical-align: top;\n",
       "    }\n",
       "\n",
       "    .dataframe thead th {\n",
       "        text-align: right;\n",
       "    }\n",
       "</style>\n",
       "<table border=\"1\" class=\"dataframe\">\n",
       "  <thead>\n",
       "    <tr style=\"text-align: right;\">\n",
       "      <th></th>\n",
       "      <th>total_count</th>\n",
       "      <th>migrants_max</th>\n",
       "      <th>old_max</th>\n",
       "      <th>vold_max</th>\n",
       "    </tr>\n",
       "  </thead>\n",
       "  <tbody>\n",
       "    <tr>\n",
       "      <th>total_count</th>\n",
       "      <td>1.000000</td>\n",
       "      <td>0.625468</td>\n",
       "      <td>0.424261</td>\n",
       "      <td>0.558360</td>\n",
       "    </tr>\n",
       "    <tr>\n",
       "      <th>migrants_max</th>\n",
       "      <td>0.625468</td>\n",
       "      <td>1.000000</td>\n",
       "      <td>0.518488</td>\n",
       "      <td>0.467874</td>\n",
       "    </tr>\n",
       "    <tr>\n",
       "      <th>old_max</th>\n",
       "      <td>0.424261</td>\n",
       "      <td>0.518488</td>\n",
       "      <td>1.000000</td>\n",
       "      <td>0.798909</td>\n",
       "    </tr>\n",
       "    <tr>\n",
       "      <th>vold_max</th>\n",
       "      <td>0.558360</td>\n",
       "      <td>0.467874</td>\n",
       "      <td>0.798909</td>\n",
       "      <td>1.000000</td>\n",
       "    </tr>\n",
       "  </tbody>\n",
       "</table>\n",
       "</div>"
      ],
      "text/plain": [
       "              total_count  migrants_max   old_max  vold_max\n",
       "total_count      1.000000      0.625468  0.424261  0.558360\n",
       "migrants_max     0.625468      1.000000  0.518488  0.467874\n",
       "old_max          0.424261      0.518488  1.000000  0.798909\n",
       "vold_max         0.558360      0.467874  0.798909  1.000000"
      ]
     },
     "execution_count": 23,
     "metadata": {},
     "output_type": "execute_result"
    }
   ],
   "source": [
    "d.corr()"
   ]
  },
  {
   "cell_type": "markdown",
   "id": "195a1040",
   "metadata": {},
   "source": [
    "Из данной таблицы мы можем сделать несколько выводов:\n",
    "- Как утверждают опрашиваемые, на предприятиях с самым большим количеством опрошенных, в основном присутствуют люди предпенсионного возраста (10%-30%)\n",
    "- На таких предприятиях отсутсвуют мигранты и люди пенсионного возраста\n",
    "- ?\n"
   ]
  },
  {
   "cell_type": "code",
   "execution_count": 24,
   "id": "104bfd1f",
   "metadata": {},
   "outputs": [
    {
     "data": {
      "image/png": "[encoded data removed]",
      "text/plain": [
       "<Figure size 640x480 with 1 Axes>"
      ]
     },
     "metadata": {},
     "output_type": "display_data"
    }
   ],
   "source": [
    "d['migrants_max'].plot(kind='bar',\n",
    "                          title='процентное количество мигрантов на предприятиях',\n",
    "                          ylabel='Количестиво от всех работников в процентах',\n",
    "                          xlabel='код предприятия',\n",
    "                          color='skyblue'\n",
    "                         );"
   ]
  },
  {
   "cell_type": "code",
   "execution_count": 25,
   "id": "a30d0dc2",
   "metadata": {},
   "outputs": [
    {
     "data": {
      "image/png": "[encoded data removed]",
      "text/plain": [
       "<Figure size 640x480 with 1 Axes>"
      ]
     },
     "metadata": {},
     "output_type": "display_data"
    }
   ],
   "source": [
    "(d\n",
    " .loc[d['old_max'] < 100, 'old_max']\n",
    " .plot(kind='bar',\n",
    "       title='процентное количество предпенсионных работников на предприятиях',\n",
    "       ylabel='Количестиво от всех работников в процентах',\n",
    "       xlabel='код предприятия',\n",
    "       color='skyblue'));"
   ]
  },
  {
   "cell_type": "code",
   "execution_count": 26,
   "id": "45292fd0",
   "metadata": {},
   "outputs": [
    {
     "data": {
      "image/png": "[encoded data removed]",
      "text/plain": [
       "<Figure size 640x480 with 1 Axes>"
      ]
     },
     "metadata": {},
     "output_type": "display_data"
    }
   ],
   "source": [
    "(d\n",
    " .loc[d['vold_max'] < 100, 'vold_max']\n",
    " .plot(kind='bar',\n",
    "       title='процентное количество работников пенсионного возраста на предприятиях',\n",
    "       ylabel='Количестиво от всех работников в процентах',\n",
    "       xlabel='код предприятия',\n",
    "       color='skyblue'));"
   ]
  },
  {
   "cell_type": "markdown",
   "id": "25bb301f",
   "metadata": {},
   "source": [
    "**Вывод:**\n",
    "Коэффициент корреляции Пирсона говорит о том, что количество работников каждого типа имеет положительную умеренную линейную зависимость с каждым другим типом."
   ]
  },
  {
   "cell_type": "markdown",
   "id": "9bbed6fa",
   "metadata": {},
   "source": [
    "### сколько работников выбыло с предприятия и какова доля мигрантов среди них? "
   ]
  },
  {
   "cell_type": "markdown",
   "id": "c49a4820",
   "metadata": {},
   "source": [
    "Нам понадобятся столбцы:\n",
    "-сколько выбыло alllayof, сокращение штата staffreduct\n"
   ]
  },
  {
   "cell_type": "code",
   "execution_count": 27,
   "id": "71d435e9",
   "metadata": {},
   "outputs": [
    {
     "data": {
      "image/png": "[encoded data removed]",
      "text/plain": [
       "<Figure size 1000x1000 with 1 Axes>"
      ]
     },
     "metadata": {},
     "output_type": "display_data"
    }
   ],
   "source": [
    "data['alllayof'].plot(kind='hist',\n",
    "                      figsize=(10,10), \n",
    "                      bins=100,\n",
    "                      xlim=(0,500), \n",
    "                      color='skyblue',\n",
    "                      title='Распределение выбывших',\n",
    "                      xlabel='количество выбывших',\n",
    "                      ylabel='сколько людей назвали такое количество выбывших'\n",
    "                     );"
   ]
  },
  {
   "cell_type": "markdown",
   "id": "1693abdc",
   "metadata": {},
   "source": [
    "На графике видно, что количество выбывшех в основном составляет 0-25 человек. Теперь посмотрим на каких предпряитиях это произошло"
   ]
  },
  {
   "cell_type": "code",
   "execution_count": 28,
   "id": "e42691d1",
   "metadata": {},
   "outputs": [
    {
     "data": {
      "image/png": "[encoded data removed]",
      "text/plain": [
       "<Figure size 640x480 with 1 Axes>"
      ]
     },
     "metadata": {},
     "output_type": "display_data"
    }
   ],
   "source": [
    "f = data.pivot_table(index=['industry'],values=['alllayof'])\n",
    "f.plot(kind='bar',\n",
    "       color='skyblue',\n",
    "       title='Количество выбывших на каждом предприятии',\n",
    "       ylabel='Количетво выбывших',\n",
    "       xlabel='код предприятия'\n",
    "      );"
   ]
  },
  {
   "cell_type": "markdown",
   "id": "0bf3fca1",
   "metadata": {},
   "source": [
    "Больше всего человек выбыло на предприятии 9 \"Химическо производство\"\n",
    "На этом предприятии по словам опрошеных 0% мигрантов.\n",
    "\n",
    "Кроме того на 2 и 3 местах находятся 2 \"Добыча полезных ископаемых, кроме топливно-энергетических\" и 7 \"Целлюлозно-бумажное производство; издательская и полиграфическая деятельность\" предприятиях, где количество мигрантов тоже очень мало или равно 0"
   ]
  },
  {
   "cell_type": "code",
   "execution_count": 29,
   "id": "45bc67c1",
   "metadata": {},
   "outputs": [
    {
     "data": {
      "text/plain": [
       "0      1204\n",
       "20       16\n",
       "10       14\n",
       "100      14\n",
       "30       12\n",
       "50        8\n",
       "5         7\n",
       "40        3\n",
       "15        3\n",
       "80        3\n",
       "6         3\n",
       "Name: staffreduct, dtype: int64"
      ]
     },
     "execution_count": 29,
     "metadata": {},
     "output_type": "execute_result"
    }
   ],
   "source": [
    "data['staffreduct'].value_counts()"
   ]
  },
  {
   "cell_type": "markdown",
   "id": "7ca68074",
   "metadata": {},
   "source": [
    "Данный столбец содержит странные результаты, так как некоторые утверждают, что было сокращено 100% штата, что говорит о том, что предприятие зарылось."
   ]
  },
  {
   "cell_type": "code",
   "execution_count": 30,
   "id": "d6cccf6c",
   "metadata": {},
   "outputs": [],
   "source": [
    "bye = data.pivot_table(index=['industry'], values=['staffreduct'],aggfunc=['max','count'])"
   ]
  },
  {
   "cell_type": "code",
   "execution_count": 31,
   "id": "f83b54ab",
   "metadata": {},
   "outputs": [
    {
     "data": {
      "image/png": "[encoded data removed]",
      "text/plain": [
       "<Figure size 640x480 with 1 Axes>"
      ]
     },
     "metadata": {},
     "output_type": "display_data"
    }
   ],
   "source": [
    "bye = data.pivot_table(index=['industry'],values=['staffreduct'], aggfunc='mean')\n",
    "bye.plot(kind='bar',\n",
    "         color='skyblue',\n",
    "         title='Количество cокращеннных на каждом предприятии',\n",
    "         ylabel='Количетво сокращенных в %',\n",
    "         xlabel='Код предприятия'\n",
    "        );"
   ]
  },
  {
   "cell_type": "markdown",
   "id": "8d265ef2",
   "metadata": {},
   "source": [
    "Больше всего было сокщено людей на 6 \"Обработка древесины и производство изделий из дерева\", 12\"Металлургическое производство и производство готовых металлических изделий\" и 131 \"Производство машин и оборудования\" предприятиях.\n",
    "\n",
    "Рабочих имеющих статус мигранта же больше всего на предприятиях:"
   ]
  },
  {
   "cell_type": "markdown",
   "id": "e5b11ad5",
   "metadata": {},
   "source": [
    "    4 \"Текстильное и швейное производство\"\n",
    "    10 \"Производство резиновых и пластмассовых изделий\"\n",
    "    16 \"Строительство\"\n",
    "    17 \"Оптовая и розничная торговля; ремонт автотранспортных средств, мотоциклов, бытовых изделий и предметов личного пользования\"\n",
    "    18 \"Транспорт и связь\"\n"
   ]
  },
  {
   "cell_type": "markdown",
   "id": "92ab7dc2",
   "metadata": {},
   "source": [
    "На этих предприятиях наоборот было маленькое количество сокращений."
   ]
  },
  {
   "cell_type": "markdown",
   "id": "4345f65c",
   "metadata": {},
   "source": [
    "**Вывод:**\n",
    "Под сокращение не попали предприятия, на которых преобладают рабочие со статусом мигранта."
   ]
  },
  {
   "cell_type": "markdown",
   "id": "27102c2d",
   "metadata": {},
   "source": [
    "### интенсивность и оплата труда. дешевле ли нанимать мигрантов? насколько выгодно нанимать мигрантов?"
   ]
  },
  {
   "cell_type": "code",
   "execution_count": 32,
   "id": "8ff83c9d",
   "metadata": {},
   "outputs": [
    {
     "data": {
      "text/plain": [
       "99       403\n",
       "30000     85\n",
       "40000     70\n",
       "35000     63\n",
       "37000     63\n",
       "        ... \n",
       "40517      1\n",
       "93000      1\n",
       "77000      1\n",
       "59000      1\n",
       "51830      1\n",
       "Name: wage, Length: 88, dtype: int64"
      ]
     },
     "execution_count": 32,
     "metadata": {},
     "output_type": "execute_result"
    }
   ],
   "source": [
    "data['wage'].value_counts()"
   ]
  },
  {
   "cell_type": "code",
   "execution_count": 33,
   "id": "b7975d82",
   "metadata": {},
   "outputs": [
    {
     "data": {
      "text/html": [
       "<div>\n",
       "<style scoped>\n",
       "    .dataframe tbody tr th:only-of-type {\n",
       "        vertical-align: middle;\n",
       "    }\n",
       "\n",
       "    .dataframe tbody tr th {\n",
       "        vertical-align: top;\n",
       "    }\n",
       "\n",
       "    .dataframe thead tr th {\n",
       "        text-align: left;\n",
       "    }\n",
       "\n",
       "    .dataframe thead tr:last-of-type th {\n",
       "        text-align: right;\n",
       "    }\n",
       "</style>\n",
       "<table border=\"1\" class=\"dataframe\">\n",
       "  <thead>\n",
       "    <tr>\n",
       "      <th></th>\n",
       "      <th>median</th>\n",
       "      <th>count</th>\n",
       "    </tr>\n",
       "    <tr>\n",
       "      <th></th>\n",
       "      <th>wage</th>\n",
       "      <th>wage</th>\n",
       "    </tr>\n",
       "    <tr>\n",
       "      <th>industry</th>\n",
       "      <th></th>\n",
       "      <th></th>\n",
       "    </tr>\n",
       "  </thead>\n",
       "  <tbody>\n",
       "    <tr>\n",
       "      <th>1</th>\n",
       "      <td>42000</td>\n",
       "      <td>30</td>\n",
       "    </tr>\n",
       "    <tr>\n",
       "      <th>2</th>\n",
       "      <td>32000</td>\n",
       "      <td>54</td>\n",
       "    </tr>\n",
       "    <tr>\n",
       "      <th>3</th>\n",
       "      <td>27000</td>\n",
       "      <td>8</td>\n",
       "    </tr>\n",
       "    <tr>\n",
       "      <th>4</th>\n",
       "      <td>35000</td>\n",
       "      <td>10</td>\n",
       "    </tr>\n",
       "    <tr>\n",
       "      <th>6</th>\n",
       "      <td>38000</td>\n",
       "      <td>27</td>\n",
       "    </tr>\n",
       "    <tr>\n",
       "      <th>7</th>\n",
       "      <td>48000</td>\n",
       "      <td>3</td>\n",
       "    </tr>\n",
       "    <tr>\n",
       "      <th>9</th>\n",
       "      <td>22000</td>\n",
       "      <td>1</td>\n",
       "    </tr>\n",
       "    <tr>\n",
       "      <th>10</th>\n",
       "      <td>46000</td>\n",
       "      <td>6</td>\n",
       "    </tr>\n",
       "    <tr>\n",
       "      <th>11</th>\n",
       "      <td>30000</td>\n",
       "      <td>9</td>\n",
       "    </tr>\n",
       "    <tr>\n",
       "      <th>12</th>\n",
       "      <td>41000</td>\n",
       "      <td>19</td>\n",
       "    </tr>\n",
       "    <tr>\n",
       "      <th>14</th>\n",
       "      <td>30000</td>\n",
       "      <td>3</td>\n",
       "    </tr>\n",
       "    <tr>\n",
       "      <th>15</th>\n",
       "      <td>31000</td>\n",
       "      <td>70</td>\n",
       "    </tr>\n",
       "    <tr>\n",
       "      <th>16</th>\n",
       "      <td>40000</td>\n",
       "      <td>93</td>\n",
       "    </tr>\n",
       "    <tr>\n",
       "      <th>17</th>\n",
       "      <td>35000</td>\n",
       "      <td>144</td>\n",
       "    </tr>\n",
       "    <tr>\n",
       "      <th>18</th>\n",
       "      <td>37000</td>\n",
       "      <td>63</td>\n",
       "    </tr>\n",
       "    <tr>\n",
       "      <th>19</th>\n",
       "      <td>35000</td>\n",
       "      <td>64</td>\n",
       "    </tr>\n",
       "    <tr>\n",
       "      <th>20</th>\n",
       "      <td>35000</td>\n",
       "      <td>110</td>\n",
       "    </tr>\n",
       "    <tr>\n",
       "      <th>131</th>\n",
       "      <td>37000</td>\n",
       "      <td>5</td>\n",
       "    </tr>\n",
       "    <tr>\n",
       "      <th>132</th>\n",
       "      <td>54000</td>\n",
       "      <td>7</td>\n",
       "    </tr>\n",
       "  </tbody>\n",
       "</table>\n",
       "</div>"
      ],
      "text/plain": [
       "         median count\n",
       "           wage  wage\n",
       "industry             \n",
       "1         42000    30\n",
       "2         32000    54\n",
       "3         27000     8\n",
       "4         35000    10\n",
       "6         38000    27\n",
       "7         48000     3\n",
       "9         22000     1\n",
       "10        46000     6\n",
       "11        30000     9\n",
       "12        41000    19\n",
       "14        30000     3\n",
       "15        31000    70\n",
       "16        40000    93\n",
       "17        35000   144\n",
       "18        37000    63\n",
       "19        35000    64\n",
       "20        35000   110\n",
       "131       37000     5\n",
       "132       54000     7"
      ]
     },
     "execution_count": 33,
     "metadata": {},
     "output_type": "execute_result"
    }
   ],
   "source": [
    "s20 = data.loc[data['wage_1']>99].pivot_table(index=['industry'], values=['wage'],aggfunc=['median','count'])\n",
    "s20.head(30)"
   ]
  },
  {
   "cell_type": "code",
   "execution_count": 34,
   "id": "11addf17",
   "metadata": {},
   "outputs": [
    {
     "data": {
      "image/png": "[encoded data removed]",
      "text/plain": [
       "<Figure size 640x480 with 1 Axes>"
      ]
     },
     "metadata": {},
     "output_type": "display_data"
    }
   ],
   "source": [
    "s20 = data.pivot_table(index=['industry'],values='wage_1', aggfunc='mean')\n",
    "s20.sort_values(by='wage_1',ascending=False).plot(kind='bar',\n",
    "         color='skyblue',\n",
    "         title='Зарплаты в 2020 году',\n",
    "         ylabel='Зарплаты',\n",
    "         xlabel='Код предприятия'\n",
    "        );"
   ]
  },
  {
   "cell_type": "markdown",
   "id": "3074a151",
   "metadata": {},
   "source": [
    "Предприятия в среднем платят меньше денег мигрантам."
   ]
  },
  {
   "cell_type": "markdown",
   "id": "71c7d0dc",
   "metadata": {},
   "source": [
    "    4 \"Текстильное и швейное производство\"\n",
    "    10 \"Производство резиновых и пластмассовых изделий\"\n",
    "    16 \"Строительство\"\n",
    "    17 \"Оптовая и розничная торговля; ремонт автотранспортных средств, мотоциклов, бытовых изделий и предметов личного пользования\"\n",
    "    18 \"Транспорт и связь\"\n"
   ]
  },
  {
   "cell_type": "code",
   "execution_count": 35,
   "id": "aff80f5f",
   "metadata": {},
   "outputs": [
    {
     "data": {
      "text/html": [
       "<div>\n",
       "<style scoped>\n",
       "    .dataframe tbody tr th:only-of-type {\n",
       "        vertical-align: middle;\n",
       "    }\n",
       "\n",
       "    .dataframe tbody tr th {\n",
       "        vertical-align: top;\n",
       "    }\n",
       "\n",
       "    .dataframe thead tr th {\n",
       "        text-align: left;\n",
       "    }\n",
       "\n",
       "    .dataframe thead tr:last-of-type th {\n",
       "        text-align: right;\n",
       "    }\n",
       "</style>\n",
       "<table border=\"1\" class=\"dataframe\">\n",
       "  <thead>\n",
       "    <tr>\n",
       "      <th></th>\n",
       "      <th>median</th>\n",
       "      <th>count</th>\n",
       "    </tr>\n",
       "    <tr>\n",
       "      <th></th>\n",
       "      <th>wage</th>\n",
       "      <th>wage</th>\n",
       "    </tr>\n",
       "    <tr>\n",
       "      <th>industry</th>\n",
       "      <th></th>\n",
       "      <th></th>\n",
       "    </tr>\n",
       "  </thead>\n",
       "  <tbody>\n",
       "    <tr>\n",
       "      <th>1</th>\n",
       "      <td>42000</td>\n",
       "      <td>31</td>\n",
       "    </tr>\n",
       "    <tr>\n",
       "      <th>2</th>\n",
       "      <td>37500</td>\n",
       "      <td>58</td>\n",
       "    </tr>\n",
       "    <tr>\n",
       "      <th>3</th>\n",
       "      <td>30000</td>\n",
       "      <td>9</td>\n",
       "    </tr>\n",
       "    <tr>\n",
       "      <th>4</th>\n",
       "      <td>32500</td>\n",
       "      <td>12</td>\n",
       "    </tr>\n",
       "    <tr>\n",
       "      <th>5</th>\n",
       "      <td>42000</td>\n",
       "      <td>1</td>\n",
       "    </tr>\n",
       "    <tr>\n",
       "      <th>6</th>\n",
       "      <td>42000</td>\n",
       "      <td>43</td>\n",
       "    </tr>\n",
       "    <tr>\n",
       "      <th>7</th>\n",
       "      <td>48000</td>\n",
       "      <td>3</td>\n",
       "    </tr>\n",
       "    <tr>\n",
       "      <th>9</th>\n",
       "      <td>22000</td>\n",
       "      <td>1</td>\n",
       "    </tr>\n",
       "    <tr>\n",
       "      <th>10</th>\n",
       "      <td>45000</td>\n",
       "      <td>9</td>\n",
       "    </tr>\n",
       "    <tr>\n",
       "      <th>11</th>\n",
       "      <td>30000</td>\n",
       "      <td>12</td>\n",
       "    </tr>\n",
       "    <tr>\n",
       "      <th>12</th>\n",
       "      <td>41000</td>\n",
       "      <td>26</td>\n",
       "    </tr>\n",
       "    <tr>\n",
       "      <th>14</th>\n",
       "      <td>41000</td>\n",
       "      <td>6</td>\n",
       "    </tr>\n",
       "    <tr>\n",
       "      <th>15</th>\n",
       "      <td>35000</td>\n",
       "      <td>82</td>\n",
       "    </tr>\n",
       "    <tr>\n",
       "      <th>16</th>\n",
       "      <td>40000</td>\n",
       "      <td>102</td>\n",
       "    </tr>\n",
       "    <tr>\n",
       "      <th>17</th>\n",
       "      <td>37000</td>\n",
       "      <td>179</td>\n",
       "    </tr>\n",
       "    <tr>\n",
       "      <th>18</th>\n",
       "      <td>40000</td>\n",
       "      <td>81</td>\n",
       "    </tr>\n",
       "    <tr>\n",
       "      <th>19</th>\n",
       "      <td>38000</td>\n",
       "      <td>92</td>\n",
       "    </tr>\n",
       "    <tr>\n",
       "      <th>20</th>\n",
       "      <td>37500</td>\n",
       "      <td>124</td>\n",
       "    </tr>\n",
       "    <tr>\n",
       "      <th>131</th>\n",
       "      <td>34627</td>\n",
       "      <td>6</td>\n",
       "    </tr>\n",
       "    <tr>\n",
       "      <th>132</th>\n",
       "      <td>54000</td>\n",
       "      <td>7</td>\n",
       "    </tr>\n",
       "  </tbody>\n",
       "</table>\n",
       "</div>"
      ],
      "text/plain": [
       "         median count\n",
       "           wage  wage\n",
       "industry             \n",
       "1         42000    31\n",
       "2         37500    58\n",
       "3         30000     9\n",
       "4         32500    12\n",
       "5         42000     1\n",
       "6         42000    43\n",
       "7         48000     3\n",
       "9         22000     1\n",
       "10        45000     9\n",
       "11        30000    12\n",
       "12        41000    26\n",
       "14        41000     6\n",
       "15        35000    82\n",
       "16        40000   102\n",
       "17        37000   179\n",
       "18        40000    81\n",
       "19        38000    92\n",
       "20        37500   124\n",
       "131       34627     6\n",
       "132       54000     7"
      ]
     },
     "execution_count": 35,
     "metadata": {},
     "output_type": "execute_result"
    }
   ],
   "source": [
    "s21 = data.loc[data['wage']>99].pivot_table(index=['industry'], values=['wage'],aggfunc=['median','count'])\n",
    "s21.head(30)"
   ]
  },
  {
   "cell_type": "code",
   "execution_count": 36,
   "id": "d157b018",
   "metadata": {},
   "outputs": [
    {
     "data": {
      "image/png": "[encoded data removed]",
      "text/plain": [
       "<Figure size 640x480 with 1 Axes>"
      ]
     },
     "metadata": {},
     "output_type": "display_data"
    }
   ],
   "source": [
    "s21 = data.pivot_table(index=['industry'],values='wage', aggfunc='mean')\n",
    "s21.sort_values(by='wage',ascending=False).plot(kind='bar',\n",
    "         color='skyblue',\n",
    "         title='Зарплаты в 2021 году',\n",
    "         ylabel='Зарплаты',\n",
    "         xlabel='Код предприятия'\n",
    "        );"
   ]
  },
  {
   "cell_type": "markdown",
   "id": "62be2edb",
   "metadata": {},
   "source": [
    "по графику видно, что предприятия с наибольшим количеством мигрантов, имеют в среднем меньшие зарплаты, чем другие предприятия\n",
    "\n",
    "Список предприятий с наибольшм количеством мигрантов:"
   ]
  },
  {
   "cell_type": "markdown",
   "id": "b8138f9e",
   "metadata": {},
   "source": [
    "    4 \"Текстильное и швейное производство\"\n",
    "    10 \"Производство резиновых и пластмассовых изделий\"\n",
    "    16 \"Строительство\"\n",
    "    17 \"Оптовая и розничная торговля; ремонт автотранспортных средств, мотоциклов, бытовых изделий и предметов личного пользования\"\n",
    "    18 \"Транспорт и связь\"\n"
   ]
  },
  {
   "cell_type": "markdown",
   "id": "e08ce42e",
   "metadata": {},
   "source": [
    "**Вывод:**\n",
    "\n",
    "Предприятия, которые имеет наибольшее количество мигрантов, за 2020 и 2021 платили меньшие зарплаты, чем остальные предприятия."
   ]
  },
  {
   "cell_type": "markdown",
   "id": "b03566b7",
   "metadata": {},
   "source": [
    "### доля организаций использующих иностранную рабочую силу "
   ]
  },
  {
   "cell_type": "code",
   "execution_count": 37,
   "id": "007374bf",
   "metadata": {},
   "outputs": [
    {
     "name": "stdout",
     "output_type": "stream",
     "text": [
      "Доля организаций, ипользующих иностранную рабочую силу равна: 17.87 %\n"
     ]
    }
   ],
   "source": [
    "print('Доля организаций, ипользующих иностранную рабочую силу равна:',round((data.loc[data['sharemigrant'] > 0, 'sharemigrant'].shape[0]/data.shape[0])*100,2),'%')"
   ]
  },
  {
   "cell_type": "markdown",
   "id": "9cabce0f",
   "metadata": {},
   "source": [
    "### связано ли привлечение иностранных работников с дефицитом кадров"
   ]
  },
  {
   "cell_type": "markdown",
   "id": "e32ee723",
   "metadata": {},
   "source": [
    "crisis_6"
   ]
  },
  {
   "cell_type": "code",
   "execution_count": 38,
   "id": "7af1c490",
   "metadata": {},
   "outputs": [
    {
     "data": {
      "text/plain": [
       "1     536\n",
       "2     437\n",
       "3     209\n",
       "99    105\n",
       "Name: crisis_6, dtype: int64"
      ]
     },
     "execution_count": 38,
     "metadata": {},
     "output_type": "execute_result"
    }
   ],
   "source": [
    "data['crisis_6'].value_counts()"
   ]
  },
  {
   "cell_type": "markdown",
   "id": "5df649f2",
   "metadata": {},
   "source": [
    "Чтобы проверить это, нужно сравнить количество предприятий, где наблюдается острая незватка кажров, с результатами пункта 3.2"
   ]
  },
  {
   "cell_type": "code",
   "execution_count": 39,
   "id": "a9bd3673",
   "metadata": {},
   "outputs": [
    {
     "data": {
      "text/html": [
       "<div>\n",
       "<style scoped>\n",
       "    .dataframe tbody tr th:only-of-type {\n",
       "        vertical-align: middle;\n",
       "    }\n",
       "\n",
       "    .dataframe tbody tr th {\n",
       "        vertical-align: top;\n",
       "    }\n",
       "\n",
       "    .dataframe thead th {\n",
       "        text-align: right;\n",
       "    }\n",
       "</style>\n",
       "<table border=\"1\" class=\"dataframe\">\n",
       "  <thead>\n",
       "    <tr style=\"text-align: right;\">\n",
       "      <th></th>\n",
       "      <th>no_probs</th>\n",
       "      <th>small_probs</th>\n",
       "      <th>extra_problems</th>\n",
       "    </tr>\n",
       "    <tr>\n",
       "      <th>industry</th>\n",
       "      <th></th>\n",
       "      <th></th>\n",
       "      <th></th>\n",
       "    </tr>\n",
       "  </thead>\n",
       "  <tbody>\n",
       "    <tr>\n",
       "      <th>1</th>\n",
       "      <td>25.0</td>\n",
       "      <td>25.0</td>\n",
       "      <td>0.0</td>\n",
       "    </tr>\n",
       "    <tr>\n",
       "      <th>2</th>\n",
       "      <td>10.0</td>\n",
       "      <td>15.0</td>\n",
       "      <td>10.0</td>\n",
       "    </tr>\n",
       "    <tr>\n",
       "      <th>3</th>\n",
       "      <td>30.0</td>\n",
       "      <td>0.0</td>\n",
       "      <td>0.0</td>\n",
       "    </tr>\n",
       "    <tr>\n",
       "      <th>4</th>\n",
       "      <td>40.0</td>\n",
       "      <td>40.0</td>\n",
       "      <td>0.0</td>\n",
       "    </tr>\n",
       "    <tr>\n",
       "      <th>5</th>\n",
       "      <td>0.0</td>\n",
       "      <td>0.0</td>\n",
       "      <td>0.0</td>\n",
       "    </tr>\n",
       "    <tr>\n",
       "      <th>6</th>\n",
       "      <td>25.0</td>\n",
       "      <td>25.0</td>\n",
       "      <td>0.0</td>\n",
       "    </tr>\n",
       "    <tr>\n",
       "      <th>7</th>\n",
       "      <td>0.0</td>\n",
       "      <td>0.0</td>\n",
       "      <td>0.0</td>\n",
       "    </tr>\n",
       "    <tr>\n",
       "      <th>8</th>\n",
       "      <td>30.0</td>\n",
       "      <td>0.0</td>\n",
       "      <td>0.0</td>\n",
       "    </tr>\n",
       "    <tr>\n",
       "      <th>9</th>\n",
       "      <td>0.0</td>\n",
       "      <td>0.0</td>\n",
       "      <td>0.0</td>\n",
       "    </tr>\n",
       "    <tr>\n",
       "      <th>10</th>\n",
       "      <td>40.0</td>\n",
       "      <td>40.0</td>\n",
       "      <td>0.0</td>\n",
       "    </tr>\n",
       "    <tr>\n",
       "      <th>11</th>\n",
       "      <td>5.0</td>\n",
       "      <td>0.0</td>\n",
       "      <td>0.0</td>\n",
       "    </tr>\n",
       "    <tr>\n",
       "      <th>12</th>\n",
       "      <td>20.0</td>\n",
       "      <td>14.8</td>\n",
       "      <td>20.0</td>\n",
       "    </tr>\n",
       "    <tr>\n",
       "      <th>14</th>\n",
       "      <td>0.0</td>\n",
       "      <td>20.0</td>\n",
       "      <td>0.0</td>\n",
       "    </tr>\n",
       "    <tr>\n",
       "      <th>15</th>\n",
       "      <td>30.0</td>\n",
       "      <td>20.0</td>\n",
       "      <td>5.0</td>\n",
       "    </tr>\n",
       "    <tr>\n",
       "      <th>16</th>\n",
       "      <td>50.0</td>\n",
       "      <td>90.0</td>\n",
       "      <td>5.0</td>\n",
       "    </tr>\n",
       "    <tr>\n",
       "      <th>17</th>\n",
       "      <td>60.0</td>\n",
       "      <td>40.0</td>\n",
       "      <td>35.0</td>\n",
       "    </tr>\n",
       "    <tr>\n",
       "      <th>18</th>\n",
       "      <td>40.0</td>\n",
       "      <td>5.0</td>\n",
       "      <td>40.0</td>\n",
       "    </tr>\n",
       "    <tr>\n",
       "      <th>19</th>\n",
       "      <td>20.0</td>\n",
       "      <td>20.0</td>\n",
       "      <td>10.0</td>\n",
       "    </tr>\n",
       "    <tr>\n",
       "      <th>20</th>\n",
       "      <td>30.0</td>\n",
       "      <td>30.0</td>\n",
       "      <td>10.0</td>\n",
       "    </tr>\n",
       "    <tr>\n",
       "      <th>131</th>\n",
       "      <td>0.0</td>\n",
       "      <td>0.0</td>\n",
       "      <td>0.0</td>\n",
       "    </tr>\n",
       "    <tr>\n",
       "      <th>132</th>\n",
       "      <td>30.0</td>\n",
       "      <td>30.0</td>\n",
       "      <td>0.0</td>\n",
       "    </tr>\n",
       "  </tbody>\n",
       "</table>\n",
       "</div>"
      ],
      "text/plain": [
       "          no_probs  small_probs  extra_problems\n",
       "industry                                       \n",
       "1             25.0         25.0             0.0\n",
       "2             10.0         15.0            10.0\n",
       "3             30.0          0.0             0.0\n",
       "4             40.0         40.0             0.0\n",
       "5              0.0          0.0             0.0\n",
       "6             25.0         25.0             0.0\n",
       "7              0.0          0.0             0.0\n",
       "8             30.0          0.0             0.0\n",
       "9              0.0          0.0             0.0\n",
       "10            40.0         40.0             0.0\n",
       "11             5.0          0.0             0.0\n",
       "12            20.0         14.8            20.0\n",
       "14             0.0         20.0             0.0\n",
       "15            30.0         20.0             5.0\n",
       "16            50.0         90.0             5.0\n",
       "17            60.0         40.0            35.0\n",
       "18            40.0          5.0            40.0\n",
       "19            20.0         20.0            10.0\n",
       "20            30.0         30.0            10.0\n",
       "131            0.0          0.0             0.0\n",
       "132           30.0         30.0             0.0"
      ]
     },
     "execution_count": 39,
     "metadata": {},
     "output_type": "execute_result"
    }
   ],
   "source": [
    "m = data.pivot_table(index=['industry','crisis_6'],values=['sharemigrant'], aggfunc={'sharemigrant':'max'})\n",
    "# m.head(20)\n",
    "# m.columns = ['max']\n",
    "# m.sort_values(by='max')\n",
    "\n",
    "m = m.unstack()\n",
    "m = m.fillna(0)\n",
    "m.columns=['no_probs','small_probs','extra_problems','99']\n",
    "m[['no_probs','small_probs','extra_problems']]"
   ]
  },
  {
   "cell_type": "markdown",
   "id": "a8d74c9e",
   "metadata": {},
   "source": [
    "Как видно по таблицу, те предприятия, которые имеют крупные проблемы с кадрами не так охотно нанимают мигрантов в сравнении с теми, где кадры не нужны или нжны не сильно."
   ]
  },
  {
   "cell_type": "code",
   "execution_count": 40,
   "id": "b5ba028e",
   "metadata": {},
   "outputs": [
    {
     "name": "stdout",
     "output_type": "stream",
     "text": [
      "485.0 414.8 135.0\n"
     ]
    }
   ],
   "source": [
    "print(m.no_probs.sum(), m.small_probs.sum(), m.extra_problems.sum())"
   ]
  },
  {
   "cell_type": "markdown",
   "id": "9d78cec0",
   "metadata": {},
   "source": [
    "**Вывод**\n",
    "\n",
    "Больше всего мигрантов наниают те предприятия, где нет нехватки кадров.\n",
    "А там где нехватка есть нанимают мигрантов почти в 4 раза реже."
   ]
  },
  {
   "cell_type": "markdown",
   "id": "07275470",
   "metadata": {},
   "source": [
    "### на предприятиях с вредными или опасными условиями труда больше мигрантов"
   ]
  },
  {
   "cell_type": "code",
   "execution_count": 56,
   "id": "bc6fecde",
   "metadata": {},
   "outputs": [],
   "source": [
    "data['unhealthw'] = data['unhealthw'].replace(99, 0)"
   ]
  },
  {
   "cell_type": "code",
   "execution_count": 76,
   "id": "a406a078",
   "metadata": {},
   "outputs": [
    {
     "data": {
      "text/html": [
       "<div>\n",
       "<style scoped>\n",
       "    .dataframe tbody tr th:only-of-type {\n",
       "        vertical-align: middle;\n",
       "    }\n",
       "\n",
       "    .dataframe tbody tr th {\n",
       "        vertical-align: top;\n",
       "    }\n",
       "\n",
       "    .dataframe thead th {\n",
       "        text-align: right;\n",
       "    }\n",
       "</style>\n",
       "<table border=\"1\" class=\"dataframe\">\n",
       "  <thead>\n",
       "    <tr style=\"text-align: right;\">\n",
       "      <th></th>\n",
       "      <th>sharemigrant</th>\n",
       "      <th>unhealthw</th>\n",
       "    </tr>\n",
       "    <tr>\n",
       "      <th>industry</th>\n",
       "      <th></th>\n",
       "      <th></th>\n",
       "    </tr>\n",
       "  </thead>\n",
       "  <tbody>\n",
       "    <tr>\n",
       "      <th>8</th>\n",
       "      <td>30.000000</td>\n",
       "      <td>1.000000</td>\n",
       "    </tr>\n",
       "    <tr>\n",
       "      <th>132</th>\n",
       "      <td>20.000000</td>\n",
       "      <td>1.000000</td>\n",
       "    </tr>\n",
       "    <tr>\n",
       "      <th>10</th>\n",
       "      <td>20.000000</td>\n",
       "      <td>1.000000</td>\n",
       "    </tr>\n",
       "    <tr>\n",
       "      <th>12</th>\n",
       "      <td>5.554286</td>\n",
       "      <td>1.171429</td>\n",
       "    </tr>\n",
       "    <tr>\n",
       "      <th>4</th>\n",
       "      <td>5.000000</td>\n",
       "      <td>1.500000</td>\n",
       "    </tr>\n",
       "    <tr>\n",
       "      <th>16</th>\n",
       "      <td>4.449102</td>\n",
       "      <td>1.461078</td>\n",
       "    </tr>\n",
       "    <tr>\n",
       "      <th>3</th>\n",
       "      <td>3.437500</td>\n",
       "      <td>1.875000</td>\n",
       "    </tr>\n",
       "    <tr>\n",
       "      <th>17</th>\n",
       "      <td>2.980545</td>\n",
       "      <td>1.945525</td>\n",
       "    </tr>\n",
       "    <tr>\n",
       "      <th>18</th>\n",
       "      <td>2.937008</td>\n",
       "      <td>1.740157</td>\n",
       "    </tr>\n",
       "    <tr>\n",
       "      <th>15</th>\n",
       "      <td>2.563636</td>\n",
       "      <td>1.345455</td>\n",
       "    </tr>\n",
       "    <tr>\n",
       "      <th>20</th>\n",
       "      <td>2.244681</td>\n",
       "      <td>1.973404</td>\n",
       "    </tr>\n",
       "    <tr>\n",
       "      <th>14</th>\n",
       "      <td>2.222222</td>\n",
       "      <td>1.222222</td>\n",
       "    </tr>\n",
       "    <tr>\n",
       "      <th>1</th>\n",
       "      <td>2.200000</td>\n",
       "      <td>1.160000</td>\n",
       "    </tr>\n",
       "    <tr>\n",
       "      <th>6</th>\n",
       "      <td>1.615385</td>\n",
       "      <td>1.288462</td>\n",
       "    </tr>\n",
       "    <tr>\n",
       "      <th>2</th>\n",
       "      <td>1.526316</td>\n",
       "      <td>1.368421</td>\n",
       "    </tr>\n",
       "    <tr>\n",
       "      <th>19</th>\n",
       "      <td>1.212121</td>\n",
       "      <td>1.984848</td>\n",
       "    </tr>\n",
       "    <tr>\n",
       "      <th>11</th>\n",
       "      <td>0.588235</td>\n",
       "      <td>1.647059</td>\n",
       "    </tr>\n",
       "    <tr>\n",
       "      <th>9</th>\n",
       "      <td>0.000000</td>\n",
       "      <td>1.000000</td>\n",
       "    </tr>\n",
       "    <tr>\n",
       "      <th>7</th>\n",
       "      <td>0.000000</td>\n",
       "      <td>1.500000</td>\n",
       "    </tr>\n",
       "    <tr>\n",
       "      <th>5</th>\n",
       "      <td>0.000000</td>\n",
       "      <td>1.000000</td>\n",
       "    </tr>\n",
       "    <tr>\n",
       "      <th>131</th>\n",
       "      <td>0.000000</td>\n",
       "      <td>1.166667</td>\n",
       "    </tr>\n",
       "  </tbody>\n",
       "</table>\n",
       "</div>"
      ],
      "text/plain": [
       "          sharemigrant  unhealthw\n",
       "industry                         \n",
       "8            30.000000   1.000000\n",
       "132          20.000000   1.000000\n",
       "10           20.000000   1.000000\n",
       "12            5.554286   1.171429\n",
       "4             5.000000   1.500000\n",
       "16            4.449102   1.461078\n",
       "3             3.437500   1.875000\n",
       "17            2.980545   1.945525\n",
       "18            2.937008   1.740157\n",
       "15            2.563636   1.345455\n",
       "20            2.244681   1.973404\n",
       "14            2.222222   1.222222\n",
       "1             2.200000   1.160000\n",
       "6             1.615385   1.288462\n",
       "2             1.526316   1.368421\n",
       "19            1.212121   1.984848\n",
       "11            0.588235   1.647059\n",
       "9             0.000000   1.000000\n",
       "7             0.000000   1.500000\n",
       "5             0.000000   1.000000\n",
       "131           0.000000   1.166667"
      ]
     },
     "execution_count": 76,
     "metadata": {},
     "output_type": "execute_result"
    }
   ],
   "source": [
    "ac = data.pivot_table(index=['industry'],values=['unhealthw','sharemigrant'],aggfunc={'unhealthw':'mean','sharemigrant':'mean'}).sort_values(by=['sharemigrant'],ascending=False)\n",
    "ac"
   ]
  },
  {
   "cell_type": "code",
   "execution_count": 75,
   "id": "4679e318",
   "metadata": {},
   "outputs": [
    {
     "data": {
      "text/html": [
       "<div>\n",
       "<style scoped>\n",
       "    .dataframe tbody tr th:only-of-type {\n",
       "        vertical-align: middle;\n",
       "    }\n",
       "\n",
       "    .dataframe tbody tr th {\n",
       "        vertical-align: top;\n",
       "    }\n",
       "\n",
       "    .dataframe thead th {\n",
       "        text-align: right;\n",
       "    }\n",
       "</style>\n",
       "<table border=\"1\" class=\"dataframe\">\n",
       "  <thead>\n",
       "    <tr style=\"text-align: right;\">\n",
       "      <th></th>\n",
       "      <th>sharemigrant</th>\n",
       "      <th>unhealthw</th>\n",
       "    </tr>\n",
       "  </thead>\n",
       "  <tbody>\n",
       "    <tr>\n",
       "      <th>sharemigrant</th>\n",
       "      <td>1.000000</td>\n",
       "      <td>-0.418008</td>\n",
       "    </tr>\n",
       "    <tr>\n",
       "      <th>unhealthw</th>\n",
       "      <td>-0.418008</td>\n",
       "      <td>1.000000</td>\n",
       "    </tr>\n",
       "  </tbody>\n",
       "</table>\n",
       "</div>"
      ],
      "text/plain": [
       "              sharemigrant  unhealthw\n",
       "sharemigrant      1.000000  -0.418008\n",
       "unhealthw        -0.418008   1.000000"
      ]
     },
     "execution_count": 75,
     "metadata": {},
     "output_type": "execute_result"
    }
   ],
   "source": [
    "ac.corr()"
   ]
  },
  {
   "cell_type": "markdown",
   "id": "154afc24",
   "metadata": {},
   "source": [
    "Итого, корреляция отрицательная умеренная, но так как у нас 1 отвечает за опасное предприятие для здоровья, то такая корреляция гворит о том, что на опасных предприятиях дейстивтельно берут больше мигрантов."
   ]
  },
  {
   "cell_type": "markdown",
   "id": "024e4166",
   "metadata": {},
   "source": [
    "### хотелось бы посмотреть гендерные и возрастные аспекты трудовой миграции"
   ]
  },
  {
   "cell_type": "markdown",
   "id": "041fa058",
   "metadata": {},
   "source": [
    "47 - доля женщин allwomen\n",
    "46 - доля работников по возрастным категориям allageless30 , allage31_55 , allagemore56"
   ]
  },
  {
   "cell_type": "code",
   "execution_count": 83,
   "id": "fc520ce2",
   "metadata": {},
   "outputs": [],
   "source": [
    "data['allwomen'] = data['allwomen'].replace(999,0)\n",
    "data['allageless30'] = data['allageless30'].fillna(0).replace(999,0)\n",
    "data['allage31_55'] = data['allage31_55'].fillna(0).replace(999,0)\n",
    "data['allagemore56'] = data['allagemore56'].fillna(0).replace(999,0)"
   ]
  },
  {
   "cell_type": "code",
   "execution_count": 93,
   "id": "1d38cd5a",
   "metadata": {},
   "outputs": [
    {
     "data": {
      "text/html": [
       "<div>\n",
       "<style scoped>\n",
       "    .dataframe tbody tr th:only-of-type {\n",
       "        vertical-align: middle;\n",
       "    }\n",
       "\n",
       "    .dataframe tbody tr th {\n",
       "        vertical-align: top;\n",
       "    }\n",
       "\n",
       "    .dataframe thead th {\n",
       "        text-align: right;\n",
       "    }\n",
       "</style>\n",
       "<table border=\"1\" class=\"dataframe\">\n",
       "  <thead>\n",
       "    <tr style=\"text-align: right;\">\n",
       "      <th></th>\n",
       "      <th>allage31_55</th>\n",
       "      <th>allageless30</th>\n",
       "      <th>allagemore56</th>\n",
       "      <th>allwomen</th>\n",
       "      <th>sharemigrant</th>\n",
       "    </tr>\n",
       "    <tr>\n",
       "      <th>industry</th>\n",
       "      <th></th>\n",
       "      <th></th>\n",
       "      <th></th>\n",
       "      <th></th>\n",
       "      <th></th>\n",
       "    </tr>\n",
       "  </thead>\n",
       "  <tbody>\n",
       "    <tr>\n",
       "      <th>1</th>\n",
       "      <td>34.50</td>\n",
       "      <td>14.20</td>\n",
       "      <td>9.30</td>\n",
       "      <td>13.90</td>\n",
       "      <td>2.20</td>\n",
       "    </tr>\n",
       "    <tr>\n",
       "      <th>2</th>\n",
       "      <td>43.55</td>\n",
       "      <td>17.03</td>\n",
       "      <td>11.79</td>\n",
       "      <td>21.28</td>\n",
       "      <td>1.53</td>\n",
       "    </tr>\n",
       "    <tr>\n",
       "      <th>3</th>\n",
       "      <td>54.38</td>\n",
       "      <td>28.75</td>\n",
       "      <td>10.62</td>\n",
       "      <td>41.25</td>\n",
       "      <td>3.44</td>\n",
       "    </tr>\n",
       "    <tr>\n",
       "      <th>4</th>\n",
       "      <td>56.88</td>\n",
       "      <td>29.38</td>\n",
       "      <td>13.75</td>\n",
       "      <td>68.50</td>\n",
       "      <td>5.00</td>\n",
       "    </tr>\n",
       "    <tr>\n",
       "      <th>5</th>\n",
       "      <td>0.00</td>\n",
       "      <td>0.00</td>\n",
       "      <td>0.00</td>\n",
       "      <td>0.00</td>\n",
       "      <td>0.00</td>\n",
       "    </tr>\n",
       "    <tr>\n",
       "      <th>6</th>\n",
       "      <td>44.50</td>\n",
       "      <td>22.83</td>\n",
       "      <td>17.29</td>\n",
       "      <td>23.45</td>\n",
       "      <td>1.62</td>\n",
       "    </tr>\n",
       "    <tr>\n",
       "      <th>7</th>\n",
       "      <td>63.50</td>\n",
       "      <td>19.50</td>\n",
       "      <td>17.00</td>\n",
       "      <td>13.00</td>\n",
       "      <td>0.00</td>\n",
       "    </tr>\n",
       "    <tr>\n",
       "      <th>8</th>\n",
       "      <td>30.00</td>\n",
       "      <td>35.00</td>\n",
       "      <td>35.00</td>\n",
       "      <td>43.00</td>\n",
       "      <td>30.00</td>\n",
       "    </tr>\n",
       "    <tr>\n",
       "      <th>9</th>\n",
       "      <td>0.00</td>\n",
       "      <td>0.00</td>\n",
       "      <td>0.00</td>\n",
       "      <td>0.00</td>\n",
       "      <td>0.00</td>\n",
       "    </tr>\n",
       "    <tr>\n",
       "      <th>10</th>\n",
       "      <td>49.09</td>\n",
       "      <td>24.09</td>\n",
       "      <td>26.82</td>\n",
       "      <td>34.18</td>\n",
       "      <td>20.00</td>\n",
       "    </tr>\n",
       "    <tr>\n",
       "      <th>11</th>\n",
       "      <td>51.47</td>\n",
       "      <td>27.41</td>\n",
       "      <td>15.24</td>\n",
       "      <td>28.53</td>\n",
       "      <td>0.59</td>\n",
       "    </tr>\n",
       "    <tr>\n",
       "      <th>12</th>\n",
       "      <td>50.71</td>\n",
       "      <td>25.11</td>\n",
       "      <td>18.46</td>\n",
       "      <td>26.09</td>\n",
       "      <td>5.55</td>\n",
       "    </tr>\n",
       "    <tr>\n",
       "      <th>14</th>\n",
       "      <td>43.33</td>\n",
       "      <td>25.56</td>\n",
       "      <td>31.11</td>\n",
       "      <td>23.33</td>\n",
       "      <td>2.22</td>\n",
       "    </tr>\n",
       "    <tr>\n",
       "      <th>15</th>\n",
       "      <td>45.54</td>\n",
       "      <td>20.29</td>\n",
       "      <td>14.17</td>\n",
       "      <td>25.17</td>\n",
       "      <td>2.56</td>\n",
       "    </tr>\n",
       "    <tr>\n",
       "      <th>16</th>\n",
       "      <td>39.71</td>\n",
       "      <td>20.78</td>\n",
       "      <td>9.56</td>\n",
       "      <td>20.01</td>\n",
       "      <td>4.45</td>\n",
       "    </tr>\n",
       "    <tr>\n",
       "      <th>17</th>\n",
       "      <td>43.26</td>\n",
       "      <td>24.79</td>\n",
       "      <td>11.71</td>\n",
       "      <td>36.78</td>\n",
       "      <td>2.98</td>\n",
       "    </tr>\n",
       "    <tr>\n",
       "      <th>18</th>\n",
       "      <td>34.98</td>\n",
       "      <td>20.02</td>\n",
       "      <td>11.13</td>\n",
       "      <td>23.17</td>\n",
       "      <td>2.94</td>\n",
       "    </tr>\n",
       "    <tr>\n",
       "      <th>19</th>\n",
       "      <td>44.54</td>\n",
       "      <td>22.90</td>\n",
       "      <td>13.62</td>\n",
       "      <td>46.38</td>\n",
       "      <td>1.21</td>\n",
       "    </tr>\n",
       "    <tr>\n",
       "      <th>20</th>\n",
       "      <td>44.91</td>\n",
       "      <td>23.80</td>\n",
       "      <td>14.79</td>\n",
       "      <td>44.10</td>\n",
       "      <td>2.24</td>\n",
       "    </tr>\n",
       "    <tr>\n",
       "      <th>131</th>\n",
       "      <td>55.50</td>\n",
       "      <td>15.17</td>\n",
       "      <td>29.33</td>\n",
       "      <td>23.00</td>\n",
       "      <td>0.00</td>\n",
       "    </tr>\n",
       "    <tr>\n",
       "      <th>132</th>\n",
       "      <td>52.60</td>\n",
       "      <td>19.80</td>\n",
       "      <td>27.60</td>\n",
       "      <td>34.10</td>\n",
       "      <td>20.00</td>\n",
       "    </tr>\n",
       "  </tbody>\n",
       "</table>\n",
       "</div>"
      ],
      "text/plain": [
       "          allage31_55  allageless30  allagemore56  allwomen  sharemigrant\n",
       "industry                                                                 \n",
       "1               34.50         14.20          9.30     13.90          2.20\n",
       "2               43.55         17.03         11.79     21.28          1.53\n",
       "3               54.38         28.75         10.62     41.25          3.44\n",
       "4               56.88         29.38         13.75     68.50          5.00\n",
       "5                0.00          0.00          0.00      0.00          0.00\n",
       "6               44.50         22.83         17.29     23.45          1.62\n",
       "7               63.50         19.50         17.00     13.00          0.00\n",
       "8               30.00         35.00         35.00     43.00         30.00\n",
       "9                0.00          0.00          0.00      0.00          0.00\n",
       "10              49.09         24.09         26.82     34.18         20.00\n",
       "11              51.47         27.41         15.24     28.53          0.59\n",
       "12              50.71         25.11         18.46     26.09          5.55\n",
       "14              43.33         25.56         31.11     23.33          2.22\n",
       "15              45.54         20.29         14.17     25.17          2.56\n",
       "16              39.71         20.78          9.56     20.01          4.45\n",
       "17              43.26         24.79         11.71     36.78          2.98\n",
       "18              34.98         20.02         11.13     23.17          2.94\n",
       "19              44.54         22.90         13.62     46.38          1.21\n",
       "20              44.91         23.80         14.79     44.10          2.24\n",
       "131             55.50         15.17         29.33     23.00          0.00\n",
       "132             52.60         19.80         27.60     34.10         20.00"
      ]
     },
     "execution_count": 93,
     "metadata": {},
     "output_type": "execute_result"
    }
   ],
   "source": [
    "women_and_age = data.pivot_table(index=['industry'],values=['sharemigrant','allwomen','allageless30','allage31_55','allagemore56'],aggfunc='mean').round(2)\n",
    "women_and_age"
   ]
  },
  {
   "cell_type": "code",
   "execution_count": 101,
   "id": "8ba06be5",
   "metadata": {},
   "outputs": [
    {
     "data": {
      "image/png": "[encoded data removed]",
      "text/plain": [
       "<Figure size 640x480 with 2 Axes>"
      ]
     },
     "metadata": {},
     "output_type": "display_data"
    }
   ],
   "source": [
    "sns.heatmap(women_and_age.corr(), annot = True,cmap='coolwarm');"
   ]
  },
  {
   "cell_type": "markdown",
   "id": "f07bdc53",
   "metadata": {},
   "source": [
    "График говорит о том, что столбец хранящий количество мигрантов и возраст 30+ и количество женщин умеренно положитеьно связаны"
   ]
  },
  {
   "cell_type": "markdown",
   "id": "c93ba406",
   "metadata": {},
   "source": [
    "### Зависит ли количество мигрантов от типа населенного пункта"
   ]
  },
  {
   "cell_type": "markdown",
   "id": "3dc4fb65",
   "metadata": {},
   "source": [
    "89 - тип населенного пункта locality\n",
    "\n",
    "1. Города-миллионники\n",
    "2. Города с численностью населения от 500 тыс. человек до 1 млн.\n",
    "3. Города с численностью населения от 100 до 500 тыс. человек\n",
    "4. Города с численностью населения менее 100 тыс. человек \n",
    "\n"
   ]
  },
  {
   "cell_type": "code",
   "execution_count": 103,
   "id": "7d14a730",
   "metadata": {},
   "outputs": [
    {
     "data": {
      "text/plain": [
       "1    684\n",
       "2    339\n",
       "4    149\n",
       "3    115\n",
       "Name: locality, dtype: int64"
      ]
     },
     "execution_count": 103,
     "metadata": {},
     "output_type": "execute_result"
    }
   ],
   "source": [
    "data['locality'].value_counts()"
   ]
  },
  {
   "cell_type": "code",
   "execution_count": 113,
   "id": "39053b83",
   "metadata": {},
   "outputs": [
    {
     "data": {
      "text/html": [
       "<div>\n",
       "<style scoped>\n",
       "    .dataframe tbody tr th:only-of-type {\n",
       "        vertical-align: middle;\n",
       "    }\n",
       "\n",
       "    .dataframe tbody tr th {\n",
       "        vertical-align: top;\n",
       "    }\n",
       "\n",
       "    .dataframe thead tr th {\n",
       "        text-align: left;\n",
       "    }\n",
       "\n",
       "    .dataframe thead tr:last-of-type th {\n",
       "        text-align: right;\n",
       "    }\n",
       "</style>\n",
       "<table border=\"1\" class=\"dataframe\">\n",
       "  <thead>\n",
       "    <tr>\n",
       "      <th></th>\n",
       "      <th>mean</th>\n",
       "      <th>count</th>\n",
       "    </tr>\n",
       "    <tr>\n",
       "      <th></th>\n",
       "      <th>sharemigrant</th>\n",
       "      <th>sharemigrant</th>\n",
       "    </tr>\n",
       "    <tr>\n",
       "      <th>locality</th>\n",
       "      <th></th>\n",
       "      <th></th>\n",
       "    </tr>\n",
       "  </thead>\n",
       "  <tbody>\n",
       "    <tr>\n",
       "      <th>1</th>\n",
       "      <td>4.178070</td>\n",
       "      <td>684</td>\n",
       "    </tr>\n",
       "    <tr>\n",
       "      <th>2</th>\n",
       "      <td>1.379941</td>\n",
       "      <td>339</td>\n",
       "    </tr>\n",
       "    <tr>\n",
       "      <th>3</th>\n",
       "      <td>1.991304</td>\n",
       "      <td>115</td>\n",
       "    </tr>\n",
       "    <tr>\n",
       "      <th>4</th>\n",
       "      <td>2.085906</td>\n",
       "      <td>149</td>\n",
       "    </tr>\n",
       "  </tbody>\n",
       "</table>\n",
       "</div>"
      ],
      "text/plain": [
       "                 mean        count\n",
       "         sharemigrant sharemigrant\n",
       "locality                          \n",
       "1            4.178070          684\n",
       "2            1.379941          339\n",
       "3            1.991304          115\n",
       "4            2.085906          149"
      ]
     },
     "execution_count": 113,
     "metadata": {},
     "output_type": "execute_result"
    }
   ],
   "source": [
    "data.pivot_table(index=['locality'], values=['sharemigrant'],aggfunc=['mean','count'])"
   ]
  },
  {
   "cell_type": "markdown",
   "id": "0b0503a3",
   "metadata": {},
   "source": [
    "В городах миллиониках значительно больше процентное количество мигрантов на предприятиях."
   ]
  },
  {
   "cell_type": "markdown",
   "id": "4b7452db",
   "metadata": {},
   "source": [
    "## Проверка гипотез"
   ]
  },
  {
   "cell_type": "markdown",
   "id": "f6c6ee44",
   "metadata": {},
   "source": [
    "### Мигранты чаще работают на низкооплачиваемых должностях, требующих физическую нагрузку."
   ]
  },
  {
   "cell_type": "markdown",
   "id": "d02bcd4e",
   "metadata": {},
   "source": [
    "Придется переформулировать гипотезу."
   ]
  },
  {
   "cell_type": "markdown",
   "id": "41dcf291",
   "metadata": {},
   "source": [
    "Пусть нулевая гиптеза звучит так: \n",
    "\n",
    "Мигранты не чаще работают на низкооплачиваемых должностях\n",
    "\n",
    "Альтернативная:\n",
    "\n",
    "Мигранты чаще работают на низкооплачиваемых должностях\n",
    "\n",
    "Уровень  статистической значимости 5%"
   ]
  },
  {
   "cell_type": "code",
   "execution_count": 132,
   "id": "0628e2b8",
   "metadata": {},
   "outputs": [],
   "source": [
    "# data['sharemigrant'].value_counts() "
   ]
  },
  {
   "cell_type": "code",
   "execution_count": 133,
   "id": "37822be3",
   "metadata": {},
   "outputs": [
    {
     "data": {
      "text/plain": [
       "230"
      ]
     },
     "execution_count": 133,
     "metadata": {},
     "output_type": "execute_result"
    }
   ],
   "source": [
    "migrs = data.loc[data['sharemigrant']>=1]\n",
    "migrs.shape[0]"
   ]
  },
  {
   "cell_type": "code",
   "execution_count": 129,
   "id": "c2e2ac69",
   "metadata": {},
   "outputs": [],
   "source": [
    "import scipy.stats as st"
   ]
  },
  {
   "cell_type": "code",
   "execution_count": 151,
   "id": "0e7b6df0",
   "metadata": {},
   "outputs": [
    {
     "data": {
      "text/plain": [
       "TtestResult(statistic=2.8025427347850576, pvalue=0.0055044883684783955, df=229)"
      ]
     },
     "execution_count": 151,
     "metadata": {},
     "output_type": "execute_result"
    }
   ],
   "source": [
    "st.ttest_1samp(migrs['wage_1'],popmean=data['wage_1'].mean())"
   ]
  },
  {
   "cell_type": "markdown",
   "id": "b10c2853",
   "metadata": {},
   "source": [
    "в 2020 году pvalue равно примерно 0.5%, значит при нашем уровне статистической значимости 5% мы можем отвергнуть нулевую гипотезу в пользу альтернативной, следовательно мигранты чаще работают на низкооплачиваемых должностях."
   ]
  },
  {
   "cell_type": "code",
   "execution_count": 149,
   "id": "a8561bbe",
   "metadata": {},
   "outputs": [
    {
     "data": {
      "text/plain": [
       "TtestResult(statistic=1.4526481635623236, pvalue=0.14769029441858555, df=229)"
      ]
     },
     "execution_count": 149,
     "metadata": {},
     "output_type": "execute_result"
    }
   ],
   "source": [
    "st.ttest_1samp(migrs['wage'],popmean=data['wage'].mean())"
   ]
  },
  {
   "cell_type": "markdown",
   "id": "2c91dbb7",
   "metadata": {},
   "source": [
    "в 2021 году pvalue равно примерно 15%, значит при нашем уровне статистической значимости 5% мы **не** можем отвергнуть нулевую гипотезу в пользу альтернативной, но и принять нулевую мы не можем, так как это говорит только о том, что у нас либо не хватает данных, либо нетоную выборку взяли."
   ]
  },
  {
   "cell_type": "markdown",
   "id": "a0f33875",
   "metadata": {},
   "source": [
    "### При сокращении штата мигрантов увольняют первыми."
   ]
  },
  {
   "cell_type": "markdown",
   "id": "14c99e4c",
   "metadata": {},
   "source": [
    "**Нулевая гипотеза:**\n",
    "\n",
    "На предприятиях, где присутсвуют мигранты увольнения происходят не чаще, чем на остальных \n",
    "\n",
    "**Альтернативная:**\n",
    "\n",
    "На предприятиях, где присутсвуют мигранты увольнения происходят чаще, чем на оcтальных \n",
    "\n",
    "Уровень статистической значимости 5%"
   ]
  },
  {
   "cell_type": "code",
   "execution_count": 135,
   "id": "ab247c2c",
   "metadata": {},
   "outputs": [
    {
     "data": {
      "text/plain": [
       "230"
      ]
     },
     "execution_count": 135,
     "metadata": {},
     "output_type": "execute_result"
    }
   ],
   "source": [
    "migrs = data.loc[data['sharemigrant']>=1]\n",
    "migrs.shape[0]"
   ]
  },
  {
   "cell_type": "code",
   "execution_count": null,
   "id": "fd3ccdcf",
   "metadata": {},
   "outputs": [],
   "source": [
    "import scipy.stats as st"
   ]
  },
  {
   "cell_type": "code",
   "execution_count": 142,
   "id": "5336cb44",
   "metadata": {},
   "outputs": [
    {
     "data": {
      "text/plain": [
       "TtestResult(statistic=1.4661536143919915, pvalue=0.14397823668322038, df=229)"
      ]
     },
     "execution_count": 142,
     "metadata": {},
     "output_type": "execute_result"
    }
   ],
   "source": [
    "st.ttest_1samp(migrs['staffreduct_1'],popmean=(data['staffreduct_1']).mean())"
   ]
  },
  {
   "cell_type": "markdown",
   "id": "197adceb",
   "metadata": {},
   "source": [
    "в 2020 году pvalue равно примерно 15%, значит при нашем уровне статистической значимости 5% мы **не** можем отвергнуть нулевую гипотезу в пользу альтернативной, но и принять нулевую мы не можем, так как это говорит только о том, что у нас либо не хватает данных, либо нетоную выборку взяли."
   ]
  },
  {
   "cell_type": "code",
   "execution_count": 145,
   "id": "b20918fd",
   "metadata": {},
   "outputs": [
    {
     "data": {
      "text/plain": [
       "TtestResult(statistic=1.0129166562703986, pvalue=0.3121689921047943, df=229)"
      ]
     },
     "execution_count": 145,
     "metadata": {},
     "output_type": "execute_result"
    }
   ],
   "source": [
    "st.ttest_1samp(migrs['staffreduct'],popmean=(data['staffreduct']).mean())"
   ]
  },
  {
   "cell_type": "markdown",
   "id": "07053b66",
   "metadata": {},
   "source": [
    "в 2021 году pvalue равно примерно 30%, значит при нашем уровне статистической значимости 5% мы **не** можем отвергнуть нулевую гипотезу в пользу альтернативной, но и принять нулевую мы не можем, так как это говорит только о том, что у нас либо не хватает данных, либо нетоную выборку взяли."
   ]
  },
  {
   "cell_type": "markdown",
   "id": "86f89f9f",
   "metadata": {},
   "source": [
    "### На предприятиях с вредными или опасными условиями труда больше мигрантов."
   ]
  },
  {
   "cell_type": "markdown",
   "id": "204b1642",
   "metadata": {},
   "source": [
    "26 - вредные и опасные условия труда unhealthw\n",
    "\n",
    "1 - Есть"
   ]
  },
  {
   "cell_type": "markdown",
   "id": "8c957388",
   "metadata": {},
   "source": [
    "Нулевая гипотеза:\n",
    "\n",
    "На предприятиях с вредными и опасными условиями труда работает столько же мигрантов как и на других предприятиях\n",
    "\n",
    "Альтернативная :\n",
    "\n",
    "На предприятиях с вредными и опасными условиями труда работает **не** столько же мигрантов как и на других предприятиях\n",
    "\n",
    "Статистическая значимость 5%"
   ]
  },
  {
   "cell_type": "code",
   "execution_count": 148,
   "id": "c42a8bb5",
   "metadata": {},
   "outputs": [
    {
     "data": {
      "text/plain": [
       "2    874\n",
       "1    399\n",
       "0     14\n",
       "Name: unhealthw, dtype: int64"
      ]
     },
     "execution_count": 148,
     "metadata": {},
     "output_type": "execute_result"
    }
   ],
   "source": [
    "data['unhealthw'].value_counts()"
   ]
  },
  {
   "cell_type": "code",
   "execution_count": null,
   "id": "66f06b53",
   "metadata": {},
   "outputs": [],
   "source": [
    "migrs = data.loc[data['sharemigrant']>=1]\n",
    "migrs.shape[0]"
   ]
  },
  {
   "cell_type": "code",
   "execution_count": 168,
   "id": "5f710748",
   "metadata": {},
   "outputs": [
    {
     "data": {
      "text/plain": [
       "TtestResult(statistic=-1.8456945328052528, pvalue=0.03311371418015242, df=229)"
      ]
     },
     "execution_count": 168,
     "metadata": {},
     "output_type": "execute_result"
    }
   ],
   "source": [
    "st.ttest_1samp(migrs['unhealthw'],popmean=(data['unhealthw']).mean())"
   ]
  },
  {
   "cell_type": "markdown",
   "id": "e097908e",
   "metadata": {},
   "source": [
    "значение pvalue равно примерно 3%, значит мы отвергаем нулевую гипотезу в пользу альтернативной, то есть **на предприятиях с вредными и опасными условиями труда работает НЕ столько же мигрантов как и на других предприятиях.**"
   ]
  },
  {
   "cell_type": "markdown",
   "id": "447d2c79",
   "metadata": {},
   "source": [
    "### Мужчин мигрантов берут чаще на работу (потому что физический труд)"
   ]
  },
  {
   "cell_type": "markdown",
   "id": "50cbd9e6",
   "metadata": {},
   "source": [
    "Нулевая гипотеза, на предпрятиях одинаково берут женщин и мужчин мигрантов\n",
    "\n",
    "Альтернативная:  на предпрятиях не одинаково берут женщин и мужчин мигрантов\n",
    "\n",
    "Уровень статистической значимости 5%"
   ]
  },
  {
   "cell_type": "code",
   "execution_count": 179,
   "id": "a3a67e31",
   "metadata": {},
   "outputs": [],
   "source": [
    "data['men'] = 100 - data['allwomen']"
   ]
  },
  {
   "cell_type": "code",
   "execution_count": 182,
   "id": "d673b8e7",
   "metadata": {},
   "outputs": [
    {
     "data": {
      "text/plain": [
       "0        75.0\n",
       "1        70.0\n",
       "2        70.0\n",
       "3       100.0\n",
       "4       100.0\n",
       "        ...  \n",
       "1282     50.0\n",
       "1283     40.0\n",
       "1284     40.0\n",
       "1285     40.0\n",
       "1286    100.0\n",
       "Name: men, Length: 1287, dtype: float64"
      ]
     },
     "execution_count": 182,
     "metadata": {},
     "output_type": "execute_result"
    }
   ],
   "source": [
    "data['men']"
   ]
  },
  {
   "cell_type": "code",
   "execution_count": 186,
   "id": "28235491",
   "metadata": {},
   "outputs": [],
   "source": [
    "migrs = data.loc[data['sharemigrant']>=1]"
   ]
  },
  {
   "cell_type": "code",
   "execution_count": 187,
   "id": "5a9a259e",
   "metadata": {},
   "outputs": [
    {
     "data": {
      "text/plain": [
       "TtestResult(statistic=-1.646148706299454, pvalue=0.10110484537113192, df=229)"
      ]
     },
     "execution_count": 187,
     "metadata": {},
     "output_type": "execute_result"
    }
   ],
   "source": [
    "st.ttest_1samp(migrs['men'],popmean=(data['men']).mean())"
   ]
  },
  {
   "cell_type": "markdown",
   "id": "8390bbde",
   "metadata": {},
   "source": [
    "pvalue 10%, мы не можем отвергнуть нулевую гипотезу, так как уровень статистичекой значимости 5%. Но и приянть нулевую гипотезу нельзя."
   ]
  },
  {
   "cell_type": "markdown",
   "id": "bfb4e7ce",
   "metadata": {},
   "source": [
    "### В предприятиях где есть полная или частичная дистанционная занятость больше мигрантов"
   ]
  },
  {
   "cell_type": "markdown",
   "id": "3a0790af",
   "metadata": {},
   "source": [
    "30 - доля работавших дистанционно distantworker"
   ]
  },
  {
   "cell_type": "markdown",
   "id": "a9190656",
   "metadata": {},
   "source": [
    "нулевая гипотеза не меньше чем остальные работники мигранты работали на предприятиях где есть полная или частичная дистанционная занятость\n",
    "\n",
    "альтернативная меньше чем остальные работники мигранты работали на предприятиях где есть полная или частичная дистанционная занятость\n",
    "\n",
    "Уровень статистической значимости 5%"
   ]
  },
  {
   "cell_type": "code",
   "execution_count": 188,
   "id": "80111a8a",
   "metadata": {},
   "outputs": [
    {
     "data": {
      "text/plain": [
       "230"
      ]
     },
     "execution_count": 188,
     "metadata": {},
     "output_type": "execute_result"
    }
   ],
   "source": [
    "migrs = data.loc[data['sharemigrant']>=1]\n",
    "migrs.shape[0]"
   ]
  },
  {
   "cell_type": "code",
   "execution_count": 192,
   "id": "bd398393",
   "metadata": {},
   "outputs": [
    {
     "data": {
      "text/plain": [
       "TtestResult(statistic=-4.529514149517788, pvalue=4.757628192631645e-06, df=229)"
      ]
     },
     "execution_count": 192,
     "metadata": {},
     "output_type": "execute_result"
    }
   ],
   "source": [
    "st.ttest_1samp(migrs['distantworker'],popmean=(data['distantworker']).mean(),alternative='less')"
   ]
  },
  {
   "cell_type": "markdown",
   "id": "2839e243",
   "metadata": {},
   "source": [
    "pvalue крайне мало, а так как мы проводили односторонний ttest, то м точно можем утверждать, что кличество мигрнатов, которые раотали дистанционно значительно меньше остальных работников работавших дистанционно."
   ]
  },
  {
   "cell_type": "code",
   "execution_count": null,
   "id": "a31ecdc6",
   "metadata": {},
   "outputs": [],
   "source": []
  },
  {
   "cell_type": "markdown",
   "id": "0126f6e5",
   "metadata": {},
   "source": [
    "## Подведение итогов:"
   ]
  },
  {
   "cell_type": "markdown",
   "id": "2a655421",
   "metadata": {},
   "source": [
    "Нашли ответы на интересующие нас вопросы для использования выводов в научно-исследовательской работе, проверили гипотезы.\n",
    "\n",
    "В исследовании провели следующие действия:\n",
    "\n",
    "    познакомились с данными\n",
    "    предобработали данные\n",
    "    нашли ответы на интересующие нас вопросы\n",
    "    проверили гипотезы\n"
   ]
  },
  {
   "cell_type": "code",
   "execution_count": null,
   "id": "103b4e58",
   "metadata": {},
   "outputs": [],
   "source": []
  }
 ],
 "metadata": {
  "kernelspec": {
   "display_name": "Python 3 (ipykernel)",
   "language": "python",
   "name": "python3"
  },
  "language_info": {
   "codemirror_mode": {
    "name": "ipython",
    "version": 3
   },
   "file_extension": ".py",
   "mimetype": "text/x-python",
   "name": "python",
   "nbconvert_exporter": "python",
   "pygments_lexer": "ipython3",
   "version": "3.10.8"
  },
  "toc": {
   "base_numbering": 1,
   "nav_menu": {},
   "number_sections": true,
   "sideBar": true,
   "skip_h1_title": true,
   "title_cell": "Содержание",
   "title_sidebar": "Contents",
   "toc_cell": true,
   "toc_position": {
    "height": "calc(100% - 180px)",
    "left": "10px",
    "top": "150px",
    "width": "215.4px"
   },
   "toc_section_display": true,
   "toc_window_display": true
  }
 },
 "nbformat": 4,
 "nbformat_minor": 5
}
